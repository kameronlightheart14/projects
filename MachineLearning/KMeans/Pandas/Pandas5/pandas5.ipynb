{
 "cells": [
  {
   "cell_type": "markdown",
   "metadata": {},
   "source": [
    "# Volume 3: Pandas 5 (GeoPandas) \n",
    "    Kameron Lightheart\n",
    "    MATH 403\n",
    "    10/29/2019"
   ]
  },
  {
   "cell_type": "code",
   "execution_count": 1,
   "metadata": {},
   "outputs": [],
   "source": [
    "import geopandas\n",
    "from matplotlib import pyplot as plt\n",
    "import geoplot.crs as gcrs\n",
    "import geoplot\n",
    "import numpy as np\n",
    "import pandas as pd\n",
    "from shapely.geometry import Point"
   ]
  },
  {
   "cell_type": "markdown",
   "metadata": {},
   "source": [
    "## Problem 1\n",
    "\n",
    "Read in the file *airports.csv* as a pandas dataframe. Convert the dataframe into a geopandas dataframe.\n",
    "\n",
    "Find the distance between the following airports:\n",
    "1. Halifax / CFB Shearwater Heliport (Halifax, Canada) to Murtala Muhammed International Airport (Lagos, Nigeria)\n",
    "2. Don Mueang International Airport (Bangkok, Thailand) and Beijing Capital International Airport (Beijing, China)\n",
    "3. Salt Lake City International Airport (Salt Lake City, USA) and Auckland International Airport (Auckland, New Zealand)"
   ]
  },
  {
   "cell_type": "code",
   "execution_count": 36,
   "metadata": {},
   "outputs": [],
   "source": [
    "def prob1(file=\"airports.csv\"):\n",
    "    # Read in data\n",
    "    df = pd.read_csv(file)\n",
    "    name = df[\"Name\"]\n",
    "    df = df.drop(columns=\"Name\")\n",
    "    df.set_index(name, inplace=True)\n",
    "    \n",
    "    # Create geocoordinate column \n",
    "    df['Coordinates'] = list(zip(df.Longitude, df.Latitude))\n",
    "    df['Coordinates'] = df['Coordinates'].apply(Point)                         \n",
    "    \n",
    "    # Cast Dataframe to GeoDataFrame\n",
    "    df = geopandas.GeoDataFrame(df, geometry='Coordinates')\n",
    "    \n",
    "    # Calculate Distances\n",
    "    airport2 = df.loc['Murtala Muhammed International Airport']['Coordinates']\n",
    "    distance1 = df.loc['Halifax / CFB Shearwater Heliport']['Coordinates'].distance(airport2)\n",
    "    \n",
    "    airport2 = df.loc['Beijing Capital International Airport']['Coordinates']\n",
    "    distance2 = df.loc['Don Mueang International Airport']['Coordinates'].distance(airport2)\n",
    "    \n",
    "    airport2 = df.loc['Auckland International Airport']['Coordinates']\n",
    "    distance3 = df.loc['Salt Lake City International Airport']['Coordinates'].distance(airport2)\n",
    "    \n",
    "    return [distance1, distance2, distance3]"
   ]
  },
  {
   "cell_type": "code",
   "execution_count": 37,
   "metadata": {},
   "outputs": [
    {
     "data": {
      "text/plain": [
       "[76.90077039796525, 30.65998230105051, 297.1352055031653]"
      ]
     },
     "execution_count": 37,
     "metadata": {},
     "output_type": "execute_result"
    }
   ],
   "source": [
    "prob1()"
   ]
  },
  {
   "cell_type": "markdown",
   "metadata": {},
   "source": [
    "## Problem 2\n",
    "Read in the built-in GeoDataFrame *naturalearth_lowres*.\n",
    "Create a GeoDataFrame that only contains information about the southern hemisphere.\n",
    "Use this data to find the country with the smallest and largest area in the southern hemisphere.\n",
    "Dissolve this GeoDataFrame to find the continent with the largest and smallest area in the southern hemisphere."
   ]
  },
  {
   "cell_type": "code",
   "execution_count": 125,
   "metadata": {},
   "outputs": [],
   "source": [
    "def prob2():\n",
    "    # Read in world data\n",
    "    world = geopandas.read_file(geopandas.datasets.get_path('naturalearth_lowres'))\n",
    "    \n",
    "    # Keep only southern longitutes\n",
    "    south = world.cx[:, :0]\n",
    "    \n",
    "    # Get indicies of min and max size countries\n",
    "    max_index = south['geometry'].area.idxmax()\n",
    "    min_index = south['geometry'].area.idxmin()\n",
    "    \n",
    "    # Grab the names of those indicies\n",
    "    max_area_nation = south.loc[max_index][\"name\"]\n",
    "    min_area_nation = south.loc[min_index][\"name\"]\n",
    "    \n",
    "    # Dissolve by continent\n",
    "    continents = world.dissolve(by='continent', aggfunc='sum')\n",
    "    \n",
    "    # Calculate min and max continent size\n",
    "    max_cont = continents['geometry'].area.idxmax()\n",
    "    min_cont = continents['geometry'].area.idxmin()\n",
    "    \n",
    "    return max_area_nation, min_area_nation, max_cont, min_cont"
   ]
  },
  {
   "cell_type": "code",
   "execution_count": 126,
   "metadata": {},
   "outputs": [
    {
     "data": {
      "text/plain": [
       "('Antarctica', 'Vanuatu', 'Antarctica', 'Seven seas (open ocean)')"
      ]
     },
     "execution_count": 126,
     "metadata": {},
     "output_type": "execute_result"
    }
   ],
   "source": [
    "prob2()"
   ]
  },
  {
   "cell_type": "markdown",
   "metadata": {},
   "source": [
    "## Problem 3\n",
    "\n",
    "Using the built-in GeoDataFrame *naturalearth_lowres* and GeoPlots, create population density plots for Asia and South America.\n",
    "Use Mercator maps."
   ]
  },
  {
   "cell_type": "code",
   "execution_count": 243,
   "metadata": {},
   "outputs": [],
   "source": [
    "def prob3():\n",
    "    # Read in world data\n",
    "    world = geopandas.read_file(geopandas.datasets.get_path('naturalearth_lowres'))\n",
    "    \n",
    "    # Chance type to Mercator\n",
    "    world.crs = {'init':'epsg:3395'}\n",
    "    \n",
    "    # Grab asia and south america\n",
    "    asia = world[world.continent=='Asia']\n",
    "    s_amer = world[world.continent=='South America']\n",
    "    \n",
    "    # Plot population densisty of each\n",
    "    asia.plot(column='pop_est', cmap=\"OrRd\")\n",
    "    s_amer.plot(column='pop_est', cmap=\"OrRd\")"
   ]
  },
  {
   "cell_type": "code",
   "execution_count": 150,
   "metadata": {},
   "outputs": [
    {
     "data": {
      "image/png": "[encoded data removed]",
      "text/plain": [
       "<Figure size 432x288 with 1 Axes>"
      ]
     },
     "metadata": {},
     "output_type": "display_data"
    },
    {
     "data": {
      "image/png": "[encoded data removed]",
      "text/plain": [
       "<Figure size 432x288 with 1 Axes>"
      ]
     },
     "metadata": {},
     "output_type": "display_data"
    }
   ],
   "source": [
    "prob3()"
   ]
  },
  {
   "cell_type": "markdown",
   "metadata": {},
   "source": [
    "## Problem 4\n",
    "\n",
    "Merge the airports GeoDataFrame and the *naturalearth_lowres* GeodataFrame on their spatial data. Use this new GeoDataFrame to find the airport in the country with the smallest population estimate."
   ]
  },
  {
   "cell_type": "code",
   "execution_count": 241,
   "metadata": {},
   "outputs": [],
   "source": [
    "def prob4(file=\"airports.csv\"):\n",
    "    # Read in world data\n",
    "    world = geopandas.read_file(geopandas.datasets.get_path('naturalearth_lowres'))\n",
    "    \n",
    "    # Read in and format airport data\n",
    "    airports = pd.read_csv(file)\n",
    "    name = airports[\"Name\"]\n",
    "    airports = airports.drop(columns=\"Name\")\n",
    "    airports.set_index(name, inplace=True)\n",
    "    \n",
    "    # Create geocoordinate column \n",
    "    airports['Coordinates'] = list(zip(airports.Longitude, airports.Latitude))\n",
    "    airports['Coordinates'] = airports['Coordinates'].apply(Point)                         \n",
    "\n",
    "    # Cast Dataframe to GeoDataFrame\n",
    "    airports = geopandas.GeoDataFrame(airports, geometry='Coordinates')\n",
    "    \n",
    "    # Join world and airports on spacial data\n",
    "    world_airports = geopandas.sjoin(world, airports, how='inner', op='intersects')\n",
    "    \n",
    "    # Compute min population country with an airport\n",
    "    min_index = world_airports['pop_est'].idxmin()\n",
    "    \n",
    "    # Grab the airport id for that row\n",
    "    airport_id_min = world_airports.loc[min_index][\"Airport ID\"]\n",
    "    \n",
    "    # Return the airport name associated with the index\n",
    "    return airports[airports[\"Airport ID\"] == airport_id_min].index.values\n",
    "    "
   ]
  },
  {
   "cell_type": "code",
   "execution_count": 242,
   "metadata": {},
   "outputs": [
    {
     "data": {
      "text/plain": [
       "array(['Mount Pleasant Airport'], dtype=object)"
      ]
     },
     "execution_count": 242,
     "metadata": {},
     "output_type": "execute_result"
    }
   ],
   "source": [
    "prob4()"
   ]
  },
  {
   "cell_type": "code",
   "execution_count": null,
   "metadata": {},
   "outputs": [],
   "source": []
  }
 ],
 "metadata": {
  "kernelspec": {
   "display_name": "Python 3",
   "language": "python",
   "name": "python3"
  },
  "language_info": {
   "codemirror_mode": {
    "name": "ipython",
    "version": 3
   },
   "file_extension": ".py",
   "mimetype": "text/x-python",
   "name": "python",
   "nbconvert_exporter": "python",
   "pygments_lexer": "ipython3",
   "version": "3.7.3"
  }
 },
 "nbformat": 4,
 "nbformat_minor": 2
}
