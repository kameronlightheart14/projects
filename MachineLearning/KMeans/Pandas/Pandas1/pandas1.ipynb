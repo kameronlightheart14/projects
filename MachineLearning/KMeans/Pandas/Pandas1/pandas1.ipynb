{
  "nbformat": 4,
  "nbformat_minor": 0,
  "metadata": {
    "colab": {
      "name": "pandas1.ipynb",
      "provenance": [],
      "collapsed_sections": []
    },
    "kernelspec": {
      "display_name": "Python 3",
      "language": "python",
      "name": "python3"
    },
    "language_info": {
      "codemirror_mode": {
        "name": "ipython",
        "version": 3
      },
      "file_extension": ".py",
      "mimetype": "text/x-python",
      "name": "python",
      "nbconvert_exporter": "python",
      "pygments_lexer": "ipython3",
      "version": "3.7.4"
    }
  },
  "cells": [
    {
      "cell_type": "markdown",
      "metadata": {
        "colab_type": "text",
        "id": "hr6QvWC1sVno"
      },
      "source": [
        "# Pandas 1\n",
        "\n",
        "## Kameron Lightheart\n",
        "\n",
        "## MATH 403 (Vol 3)\n",
        "\n",
        "## 9/30/2019"
      ]
    },
    {
      "cell_type": "code",
      "metadata": {
        "colab_type": "code",
        "id": "D1pxi6sWEcmJ",
        "colab": {}
      },
      "source": [
        "import numpy as np\n",
        "import pandas as pd\n",
        "from google.colab import files"
      ],
      "execution_count": 0,
      "outputs": []
    },
    {
      "cell_type": "code",
      "metadata": {
        "colab_type": "code",
        "id": "Z-nLj90_T0Yq",
        "outputId": "19fde9c3-66f4-4e86-cb3f-a96a90daade6",
        "colab": {
          "resources": {
            "http://localhost:8080/nbextensions/google.colab/files.js": {
              "data": "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",
              "ok": true,
              "headers": [
                [
                  "content-type",
                  "application/javascript"
                ]
              ],
              "status": 200,
              "status_text": ""
            }
          },
          "base_uri": "https://localhost:8080/",
          "height": 125
        }
      },
      "source": [
        "# Files needed\n",
        "#     budget.csv\n",
        "#     crime_data.csv\n",
        "uploaded = files.upload()            "
      ],
      "execution_count": 0,
      "outputs": [
        {
          "output_type": "display_data",
          "data": {
            "text/html": [
              "\n",
              "     <input type=\"file\" id=\"files-1c26bd55-3eec-4bce-836d-53c36a113e41\" name=\"files[]\" multiple disabled />\n",
              "     <output id=\"result-1c26bd55-3eec-4bce-836d-53c36a113e41\">\n",
              "      Upload widget is only available when the cell has been executed in the\n",
              "      current browser session. Please rerun this cell to enable.\n",
              "      </output>\n",
              "      <script src=\"/nbextensions/google.colab/files.js\"></script> "
            ],
            "text/plain": [
              "<IPython.core.display.HTML object>"
            ]
          },
          "metadata": {
            "tags": []
          }
        },
        {
          "output_type": "stream",
          "text": [
            "Saving budget.csv to budget.csv\n",
            "Saving crime_data.csv to crime_data.csv\n"
          ],
          "name": "stdout"
        }
      ]
    },
    {
      "cell_type": "markdown",
      "metadata": {
        "colab_type": "text",
        "id": "Y8nzrZCaE4bn"
      },
      "source": [
        "# Problem 1"
      ]
    },
    {
      "cell_type": "code",
      "metadata": {
        "colab_type": "code",
        "id": "3_MnldIDExPm",
        "colab": {}
      },
      "source": [
        "def random_dataframe(d=None):\n",
        "    \"\"\"\n",
        "    Generate a dictionary.\n",
        "    Reset labels and return.\n",
        "\n",
        "    Parameters:\n",
        "    d (dict): dictionary to initialize DataFrame\n",
        "\n",
        "    Return:\n",
        "    csv: csv of DataFrame\n",
        "    \"\"\"\n",
        "    result = None\n",
        "    if d is not None:\n",
        "        df = pd.DataFrame(d)\n",
        "        index = df.index\n",
        "        columns = df.columns\n",
        "        values = df.values\n",
        "        result = (index, columns, values)\n",
        "    else:\n",
        "        values = np.random.random((5,6))\n",
        "        columns = ['A', 'B', 'C', 'D', 'E']\n",
        "        index = ['I', 'II', 'III', 'IV', 'V', 'VI']\n",
        "        df = pd.DataFrame(values, columns, index)\n",
        "        result = (index, columns, values)\n",
        "    return result"
      ],
      "execution_count": 0,
      "outputs": []
    },
    {
      "cell_type": "code",
      "metadata": {
        "id": "MqM8b8KH7aDv",
        "colab_type": "code",
        "outputId": "141d2d6b-7814-4779-bfd1-259278783f47",
        "colab": {
          "base_uri": "https://localhost:8080/",
          "height": 221
        }
      },
      "source": [
        "random_dataframe()"
      ],
      "execution_count": 0,
      "outputs": [
        {
          "output_type": "execute_result",
          "data": {
            "text/plain": [
              "(['I', 'II', 'III', 'IV', 'V', 'VI'],\n",
              " ['A', 'B', 'C', 'D', 'E'],\n",
              " array([[0.76503407, 0.50363147, 0.20849664, 0.41652951, 0.24831311,\n",
              "         0.29976917],\n",
              "        [0.83382511, 0.82342529, 0.52257321, 0.09818262, 0.56870424,\n",
              "         0.16237243],\n",
              "        [0.84007801, 0.85796126, 0.34535862, 0.74494947, 0.05758676,\n",
              "         0.14283527],\n",
              "        [0.0576391 , 0.3113095 , 0.21799263, 0.01489144, 0.27569932,\n",
              "         0.94312121],\n",
              "        [0.00302279, 0.36673208, 0.94097693, 0.86973856, 0.98727686,\n",
              "         0.29790359]]))"
            ]
          },
          "metadata": {
            "tags": []
          },
          "execution_count": 16
        }
      ]
    },
    {
      "cell_type": "code",
      "metadata": {
        "id": "UPFy4JEt7nrm",
        "colab_type": "code",
        "outputId": "66a65c27-cb5f-4092-add9-a56427cfe706",
        "colab": {
          "base_uri": "https://localhost:8080/",
          "height": 221
        }
      },
      "source": [
        "\n",
        "values = np.random.random((5,6))\n",
        "columns = ['A', 'B', 'C', 'D', 'E']\n",
        "index = ['I', 'II', 'III', 'IV', 'V', 'VI']\n",
        "df = pd.DataFrame(values, columns, index)\n",
        "random_dataframe(df)"
      ],
      "execution_count": 0,
      "outputs": [
        {
          "output_type": "execute_result",
          "data": {
            "text/plain": [
              "(Index(['A', 'B', 'C', 'D', 'E'], dtype='object'),\n",
              " Index(['I', 'II', 'III', 'IV', 'V', 'VI'], dtype='object'),\n",
              " array([[0.08152808, 0.5850206 , 0.9370239 , 0.6541566 , 0.80056373,\n",
              "         0.76875558],\n",
              "        [0.87511818, 0.99519632, 0.93920394, 0.37214999, 0.77523357,\n",
              "         0.19600282],\n",
              "        [0.53775708, 0.74185314, 0.05257287, 0.44152808, 0.82571473,\n",
              "         0.96610458],\n",
              "        [0.62115365, 0.23797084, 0.17665642, 0.41192467, 0.26968051,\n",
              "         0.87458755],\n",
              "        [0.62232405, 0.93713308, 0.75054039, 0.49839944, 0.53742758,\n",
              "         0.02139768]]))"
            ]
          },
          "metadata": {
            "tags": []
          },
          "execution_count": 17
        }
      ]
    },
    {
      "cell_type": "markdown",
      "metadata": {
        "colab_type": "text",
        "id": "FcGE9Qq5scpv"
      },
      "source": [
        "# Problem 2"
      ]
    },
    {
      "cell_type": "code",
      "metadata": {
        "colab_type": "code",
        "id": "bZIdjL74RuuO",
        "colab": {}
      },
      "source": [
        "# Prob 2\n",
        "def prob2(file='budget.csv'):\n",
        "    \"\"\"\n",
        "    Read in file as DataFrame. Manipulate data using\n",
        "    Pandas commmands\n",
        "    \n",
        "    Parameters:\n",
        "        file (str): name of datafile\n",
        "        \n",
        "    Return:\n",
        "        values (ndarray): values of DataFrame\n",
        "    \"\"\"\n",
        "    # Read in data\n",
        "    df = pd.read_csv(file)\n",
        "    \n",
        "    # Get column names\n",
        "    column_names = list(df)\n",
        "    \n",
        "    # Construct new order of column names\n",
        "    order_indicies = [3, 4, 0, 1, 2, 5, 6, 7]\n",
        "    new_order = [column_names[i] for i in order_indicies]\n",
        "    \n",
        "    # Reindex the DataFrame\n",
        "    df = df.reindex(columns = new_order)\n",
        "    \n",
        "    # Sort on Groceries \n",
        "    df = df.sort_values('Groceries', ascending=False)\n",
        "    \n",
        "    # Reset all values in rent to 800\n",
        "    df['Rent'] = 800 * np.ones_like(df['Rent']) \n",
        "    \n",
        "    # Reset all values in first 5 rows to 0.0\n",
        "    df[:5] = np.zeros_like(df.loc[28])\n",
        "    \n",
        "    return df.values"
      ],
      "execution_count": 0,
      "outputs": []
    },
    {
      "cell_type": "code",
      "metadata": {
        "id": "-kjWCQgyFU-9",
        "colab_type": "code",
        "colab": {
          "base_uri": "https://localhost:8080/",
          "height": 833
        },
        "outputId": "4f0fd820-bb98-4496-f220-6bd50c41f6ea"
      },
      "source": [
        "prob2()"
      ],
      "execution_count": 73,
      "outputs": [
        {
          "output_type": "execute_result",
          "data": {
            "text/plain": [
              "array([[0, 0.0, 0, 0.0, 0.0, 0.0, 0.0, 0.0],\n",
              "       [0, 0.0, 0, 0.0, 0.0, 0.0, 0.0, 0.0],\n",
              "       [0, 0.0, 0, 0.0, 0.0, 0.0, 0.0, 0.0],\n",
              "       [0, 0.0, 0, 0.0, 0.0, 0.0, 0.0, 0.0],\n",
              "       [0, 0.0, 0, 0.0, 0.0, 0.0, 0.0, 0.0],\n",
              "       [174, 37.0, '11/18', 800.0, 90.0, 30.0, 23.0, 8.0],\n",
              "       [174, 35.0, '4/15', 800.0, 82.0, nan, 26.0, nan],\n",
              "       [172, 31.0, '8/18', 800.0, 82.0, 30.0, 26.0, 8.0],\n",
              "       [171, 40.0, '5/15', 800.0, 82.0, nan, 23.0, nan],\n",
              "       [171, 35.0, '7/15', 800.0, 82.0, nan, 27.0, nan],\n",
              "       [171, 30.0, '6/17', 800.0, 80.0, 31.0, 22.0, nan],\n",
              "       [170, 34.0, '10/18', 800.0, 90.0, 33.0, nan, 8.0],\n",
              "       [170, 34.0, '7/16', 800.0, 85.0, nan, 25.0, nan],\n",
              "       [167, 30.0, '3/16', 800.0, 92.0, nan, 29.0, nan],\n",
              "       [163, 30.0, '5/16', 800.0, 85.0, nan, nan, nan],\n",
              "       [163, 31.0, '1/15', 800.0, 90.0, nan, 25.0, nan],\n",
              "       [161, 30.0, '6/16', 800.0, 85.0, nan, 24.0, nan],\n",
              "       [160, 32.0, '12/16', 800.0, 91.0, 28.0, 23.0, nan],\n",
              "       [158, nan, '1/16', 800.0, 92.0, nan, 22.0, nan],\n",
              "       [157, nan, '4/18', 800.0, 82.0, 32.0, 21.0, 8.0],\n",
              "       [155, nan, '8/17', 800.0, 80.0, 33.0, 26.0, 8.0],\n",
              "       [155, 33.0, '11/15', 800.0, 92.0, nan, nan, nan],\n",
              "       [153, 31.0, '9/17', 800.0, 80.0, 30.0, 27.0, 8.0],\n",
              "       [152, 30.0, '12/17', 800.0, 95.0, 46.0, nan, 8.0],\n",
              "       [152, 39.0, '9/16', 800.0, 85.0, nan, 29.0, nan],\n",
              "       [152, 32.0, '3/18', 800.0, 95.0, 34.0, 22.0, 8.0],\n",
              "       [150, 34.0, '2/15', 800.0, 90.0, nan, 25.0, nan],\n",
              "       [148, 40.0, '1/17', 800.0, 91.0, 31.0, nan, nan],\n",
              "       [148, 34.0, '2/17', 800.0, 91.0, 28.0, 27.0, nan],\n",
              "       [146, 31.0, '2/18', 800.0, 95.0, 32.0, 23.0, 8.0],\n",
              "       [145, 30.0, '3/17', 800.0, 91.0, 29.0, 28.0, nan],\n",
              "       [145, 40.0, '9/15', 800.0, 82.0, nan, 27.0, nan],\n",
              "       [145, 32.0, '3/15', 800.0, 90.0, nan, 29.0, nan],\n",
              "       [143, 38.0, '11/17', 800.0, 95.0, 34.0, 21.0, 8.0],\n",
              "       [141, 37.0, '6/15', 800.0, 82.0, nan, 27.0, nan],\n",
              "       [140, 31.0, '7/18', 800.0, 82.0, 30.0, 24.0, 8.0],\n",
              "       [140, 34.0, '12/15', 800.0, 92.0, nan, 24.0, nan],\n",
              "       [137, nan, '9/18', 800.0, 82.0, 31.0, 28.0, 8.0],\n",
              "       [137, 36.0, '8/15', 800.0, 82.0, nan, 20.0, nan],\n",
              "       [137, 36.0, '1/18', 800.0, 95.0, 34.0, 23.0, 8.0],\n",
              "       [136, 36.0, '2/16', 800.0, 92.0, nan, 22.0, nan],\n",
              "       [135, 34.0, '12/18', 800.0, 90.0, 32.0, 22.0, 8.0],\n",
              "       [134, 39.0, '5/18', 800.0, 82.0, 35.0, 24.0, 8.0],\n",
              "       [133, 36.0, '10/16', 800.0, 91.0, nan, 23.0, nan],\n",
              "       [131, 38.0, '8/16', 800.0, 85.0, nan, 23.0, nan],\n",
              "       [131, 31.0, '7/17', 800.0, 80.0, 29.0, nan, nan],\n",
              "       [130, 31.0, '4/16', 800.0, 85.0, nan, 22.0, nan],\n",
              "       [130, 34.0, '11/16', 800.0, 91.0, nan, 21.0, nan]], dtype=object)"
            ]
          },
          "metadata": {
            "tags": []
          },
          "execution_count": 73
        }
      ]
    },
    {
      "cell_type": "code",
      "metadata": {
        "id": "Khz78z5rHRc2",
        "colab_type": "code",
        "colab": {}
      },
      "source": [
        ""
      ],
      "execution_count": 0,
      "outputs": []
    },
    {
      "cell_type": "markdown",
      "metadata": {
        "colab_type": "text",
        "id": "qVHAwFRRseXh"
      },
      "source": [
        "# Problem 3"
      ]
    },
    {
      "cell_type": "code",
      "metadata": {
        "colab_type": "code",
        "id": "35VAshdqZhVD",
        "colab": {}
      },
      "source": [
        "def prob3(file='budget.csv'):\n",
        "    \"\"\"\n",
        "    Read in data as Pandas DataFrame.\n",
        "    Manipulate data and return DataFrame values.\n",
        "    \n",
        "    Parameters:\n",
        "        file (str): data file\n",
        "    \n",
        "    Return:\n",
        "        values (ndarray): values of DataFrame\n",
        "    \"\"\"\n",
        "    # Read in data\n",
        "    df = pd.read_csv(file)\n",
        "    # Fill in nans with 0.0 \n",
        "    df = df.fillna(0.0)\n",
        "    df['Living Expenses'] = df['Rent'].values + df['Groceries'].values + df['Gas'].values\\\n",
        "                            + df['Utilities']\n",
        "    df['Other'] = df['Dining Out'].values + df['Out With Friends'].values \\\n",
        "                            + df['Netflix']\n",
        "    # Rent correlates most with living expenses, dining out for other\n",
        "    corr = df.corr()\n",
        "    \n",
        "    means = df.mean()\n",
        "    \n",
        "    return (means['Rent'], means['Dining Out'])"
      ],
      "execution_count": 0,
      "outputs": []
    },
    {
      "cell_type": "code",
      "metadata": {
        "id": "s-z_nU2CcZPd",
        "colab_type": "code",
        "colab": {
          "base_uri": "https://localhost:8080/",
          "height": 34
        },
        "outputId": "e8f771ab-57a5-459d-abca-bd888ddf1486"
      },
      "source": [
        "prob3()"
      ],
      "execution_count": 242,
      "outputs": [
        {
          "output_type": "execute_result",
          "data": {
            "text/plain": [
              "(751.0416666666666, 30.5)"
            ]
          },
          "metadata": {
            "tags": []
          },
          "execution_count": 242
        }
      ]
    },
    {
      "cell_type": "markdown",
      "metadata": {
        "colab_type": "text",
        "id": "4pfN6PbxsgC3"
      },
      "source": [
        "# Problem 4"
      ]
    },
    {
      "cell_type": "code",
      "metadata": {
        "colab_type": "code",
        "id": "TAavKLA17LsN",
        "colab": {}
      },
      "source": [
        "def prob4(file='crime_data.csv'):\n",
        "    \"\"\"\n",
        "    Read in crime data and use SQL queries to gather certain data.\n",
        "    \n",
        "    Parameters:\n",
        "        file (str): data\n",
        "    \n",
        "    Return:\n",
        "        values (ndarray): values of DataFrame\n",
        "    \"\"\"\n",
        "    df = pd.read_csv(file)\n",
        "    df = df.set_index('Year')\n",
        "    df['Rate'] = df['Total'].values / df['Population'].values\n",
        "    df = df[df['Rate'] > 0.05]\n",
        "    num_murders = df['Murder']\n",
        "    return num_murders.values"
      ],
      "execution_count": 0,
      "outputs": []
    },
    {
      "cell_type": "code",
      "metadata": {
        "id": "sAOkrudgaMpi",
        "colab_type": "code",
        "colab": {
          "base_uri": "https://localhost:8080/",
          "height": 68
        },
        "outputId": "3ce5939e-3f61-420d-9f78-4339bd5ca589"
      },
      "source": [
        "prob4()"
      ],
      "execution_count": 226,
      "outputs": [
        {
          "output_type": "execute_result",
          "data": {
            "text/plain": [
              "array([20510, 18780, 19120, 19560, 21460, 23040, 22520, 21010, 19310,\n",
              "       18690, 18980, 20613, 20096, 20680, 21500, 23440, 24700, 23760,\n",
              "       24530, 23330, 21610, 19650])"
            ]
          },
          "metadata": {
            "tags": []
          },
          "execution_count": 226
        }
      ]
    },
    {
      "cell_type": "markdown",
      "metadata": {
        "colab_type": "text",
        "id": "I663KesNsjMK"
      },
      "source": [
        "# Problem 5"
      ]
    },
    {
      "cell_type": "code",
      "metadata": {
        "colab_type": "code",
        "id": "KGxh0mpSDLDD",
        "colab": {}
      },
      "source": [
        "def prob5(file = 'crime_data.csv'):\n",
        "    \"\"\"\n",
        "    Read in crime data and use pandas to answer questions.\n",
        "    \n",
        "    Parameters:\n",
        "        file (str): data\n",
        "    \n",
        "    Return:\n",
        "        ans_1 (list): answer to Question 1\n",
        "        ans_2 (ndarray): answer to Question 2\n",
        "        ans_3 (float): answer to Question 3\n",
        "    \"\"\"\n",
        "    # Read in the data\n",
        "    df = pd.read_csv(file)\n",
        "    # QUESTION 1\n",
        "    # Compute the mean and correlation matrix\n",
        "    means = df.mean(axis=0)\n",
        "    # Three highest means are burlary, property and larceny\n",
        "    means = means[means > 1_500_000]\n",
        "    # Two most correlated are property and larceny\n",
        "    correlations = df.corr()\n",
        "    # Property has greatest max value\n",
        "    ans1 = 'Property'\n",
        "    \n",
        "    # QUESTION 2\n",
        "    recent_data = df[df['Year'] >= 2000]\n",
        "    sorted_data = recent_data.sort_values('Murder')\n",
        "    query_data = sorted_data[sorted_data['Aggravated Assault'] > 850_000]\n",
        "    ans2 = query_data\n",
        "    \n",
        "    # QUESTION 3\n",
        "    totals = df.groupby(df['Year'] // 10 * 10).sum().sort_values('Total', ascending=False).loc[1990]\n",
        "    ans3 = float(totals['Property'] / totals['Total'])\n",
        "    \n",
        "    return [ans1, ans2, ans3]"
      ],
      "execution_count": 0,
      "outputs": []
    },
    {
      "cell_type": "code",
      "metadata": {
        "id": "xE4beRQuLsZK",
        "colab_type": "code",
        "colab": {
          "base_uri": "https://localhost:8080/",
          "height": 221
        },
        "outputId": "4abb5926-b06c-4a8e-dbac-ee3af259aec4"
      },
      "source": [
        "prob5()"
      ],
      "execution_count": 204,
      "outputs": [
        {
          "output_type": "execute_result",
          "data": {
            "text/plain": [
              "['Property',\n",
              "     Year  Population     Total  ...  Burglary  Larceny  Vehicle Theft\n",
              " 40  2000   281421906  11608072  ...   2050992  6971590        1160002\n",
              " 41  2001   285317559  11876669  ...   2116531  7092267        1228391\n",
              " 42  2002   287973924  11878954  ...   2151252  7057370        1246646\n",
              " 43  2003   290690788  11826538  ...   2154834  7026802        1261226\n",
              " 45  2005   296507061  11565499  ...   2155448  6783447        1235859\n",
              " 47  2007   301621157  11251828  ...   2176140  6568572        1095769\n",
              " 46  2006   299398484  11401511  ...   2183746  6607013        1192809\n",
              " \n",
              " [7 rows x 12 columns],\n",
              " 0.8716622376104707]"
            ]
          },
          "metadata": {
            "tags": []
          },
          "execution_count": 204
        }
      ]
    },
    {
      "cell_type": "markdown",
      "metadata": {
        "id": "O0SNF3ogTexT",
        "colab_type": "text"
      },
      "source": [
        ""
      ]
    },
    {
      "cell_type": "code",
      "metadata": {
        "id": "qAyT72yrTUqc",
        "colab_type": "code",
        "colab": {}
      },
      "source": [
        ""
      ],
      "execution_count": 0,
      "outputs": []
    },
    {
      "cell_type": "markdown",
      "metadata": {
        "id": "NB244rPQOQgw",
        "colab_type": "text"
      },
      "source": [
        ""
      ]
    },
    {
      "cell_type": "markdown",
      "metadata": {
        "id": "UI3rEsWdOQLF",
        "colab_type": "text"
      },
      "source": [
        ""
      ]
    },
    {
      "cell_type": "code",
      "metadata": {
        "id": "BDD7aoelLtJ1",
        "colab_type": "code",
        "colab": {}
      },
      "source": [
        ""
      ],
      "execution_count": 0,
      "outputs": []
    }
  ]
}