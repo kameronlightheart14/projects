{
 "cells": [
  {
   "cell_type": "code",
   "execution_count": 2,
   "metadata": {},
   "outputs": [],
   "source": [
    "\"\"\"Volume 3: Web Scraping.\n",
    "Kameron Lightheart\n",
    "MATH 403\n",
    "9/16/2019\n",
    "\"\"\"\n",
    "\n",
    "import requests\n",
    "from bs4 import BeautifulSoup\n",
    "import re\n",
    "import pandas as pd\n",
    "from matplotlib import pyplot as plt\n",
    "\n",
    "# Problem 1\n",
    "def prob1():\n",
    "    # Get source from example.com\n",
    "    response = requests.get(\"http://www.example.com\")\n",
    "    # Write the source to a new example.html file\n",
    "    with open(\"example.html\", \"w\") as file:\n",
    "        file.write(response.text)\n",
    "        \n",
    "    return response\n",
    "    \n",
    "# Problem 2\n",
    "def prob2():\n",
    "    \"\"\"Examine the source code of http://www.example.com. Determine the names\n",
    "    of the tags in the code and the value of the 'type' attribute associated\n",
    "    with the 'style' tag.\n",
    "\n",
    "    Returns:\n",
    "        (set): A set of strings, each of which is the name of a tag.\n",
    "        (str): The value of the 'type' attribute in the 'style' tag.\n",
    "    \"\"\"\n",
    "    soup = None\n",
    "    with open(\"example.html\", \"r\") as file:\n",
    "        soup = BeautifulSoup(file)\n",
    "    tags = { tag.name for tag in soup.find_all() }\n",
    "    style_value = soup.find_all('style')[0].text\n",
    "    return tags, style_value\n",
    "\n",
    "\n",
    "# Problem 3\n",
    "def prob3(code):\n",
    "    \"\"\"Return a list of the names of the tags in the given HTML code.\"\"\"\n",
    "    soup = BeautifulSoup(code)\n",
    "    tags = [ tag.name for tag in soup.find_all() ]\n",
    "    return tags\n",
    "\n",
    "\n",
    "# Problem 4\n",
    "def prob4(filename=\"example.html\"):\n",
    "    \"\"\"Read the specified file and load it into BeautifulSoup. Find the only\n",
    "    <a> tag with a hyperlink and return its text.\n",
    "    \"\"\"\n",
    "    html_soup = BeautifulSoup(prob1().text)\n",
    "    a_href = html_soup.find(\"a\", attrs={\"href\": True})\n",
    "    return a_href.text\n",
    "\n",
    "\n",
    "# Problem 5\n",
    "def prob5(filename=\"san_diego_weather.html\"):\n",
    "    \"\"\"Read the specified file and load it into BeautifulSoup. Return a list\n",
    "    of the following tags:\n",
    "\n",
    "    1. The tag containing the date 'Thursday, January 1, 2015'.\n",
    "    2. The tags which contain the links 'Previous Day' and 'Next Day'.\n",
    "    3. The tag which contains the number associated with the Actual Max\n",
    "        Temperature.\n",
    "\n",
    "    Returns:\n",
    "        (list) A list of bs4.element.Tag objects (NOT text).\n",
    "    \"\"\"\n",
    "    soup = None\n",
    "    with open(filename, \"r\") as file:\n",
    "        soup = BeautifulSoup(file)\n",
    "    return_list = []\n",
    "    return_list.append(soup.find(string=\"Thursday, January 1, 2015\").parent)\n",
    "    tags_2 = soup.find_all(string=re.compile(r\"(Previous Day|Next Day)\"))\n",
    "    return_list.append([tag.parent for tag in tags_2])\n",
    "    \n",
    "    parent = soup.find(string=\"Max Temperature\").parent.parent.parent\n",
    "    child = parent.find(\"span\", {\"class\": \"wx-value\"})\n",
    "    return_list.append(child)\n",
    "    \n",
    "    return return_list\n",
    "\n",
    "\n",
    "# Problem 6\n",
    "def prob6(filename=\"large_banks_index.html\"):\n",
    "    \"\"\"Read the specified file and load it into BeautifulSoup. Return a list\n",
    "    of the tags containing the links to bank data from September 30, 2003 to\n",
    "    December 31, 2014, where the dates are in reverse chronological order.\n",
    "\n",
    "    Returns:\n",
    "        (list): A list of bs4.element.Tag objects (NOT text).\n",
    "    \"\"\"\n",
    "    soup = None\n",
    "    with open(filename, \"r\") as file:\n",
    "        soup = BeautifulSoup(file)\n",
    "    dates = soup.find_all(\"a\", string=re.compile(r\"[A-z]+ [0-9]+, [0-9]+\"))\n",
    "    return dates[1:]\n",
    "\n",
    "\n",
    "# Problem 7\n",
    "def prob(filename=\"large_banks_data.html\"):\n",
    "    \"\"\"Read the specified file and load it into BeautifulSoup. Create a single\n",
    "    figure with two subplots:\n",
    "\n",
    "    1. A sorted bar chart of the seven banks with the most domestic branches.\n",
    "    2. A sorted bar chart of the seven banks with the most foreign branches.\n",
    "\n",
    "    In the case of a tie, sort the banks alphabetically by name.\n",
    "    \"\"\"\n",
    "    soup = None\n",
    "    with open(filename, \"r\") as file:\n",
    "        soup = BeautifulSoup(file)\n",
    "    table = soup.find(\"table\", {\"cellpadding\": \"7\"})\n",
    "    df = pd.read_html(str(table))[0]\n",
    "    return df\n",
    "    \n"
   ]
  },
  {
   "cell_type": "code",
   "execution_count": 88,
   "metadata": {},
   "outputs": [],
   "source": [
    "html = prob1()"
   ]
  },
  {
   "cell_type": "code",
   "execution_count": null,
   "metadata": {},
   "outputs": [],
   "source": []
  },
  {
   "cell_type": "code",
   "execution_count": 68,
   "metadata": {},
   "outputs": [
    {
     "data": {
      "text/plain": [
       "['html',\n",
       " 'head',\n",
       " 'title',\n",
       " 'meta',\n",
       " 'meta',\n",
       " 'meta',\n",
       " 'style',\n",
       " 'body',\n",
       " 'div',\n",
       " 'h1',\n",
       " 'p',\n",
       " 'p',\n",
       " 'a']"
      ]
     },
     "execution_count": 68,
     "metadata": {},
     "output_type": "execute_result"
    }
   ],
   "source": [
    "prob3(html.text)"
   ]
  },
  {
   "cell_type": "code",
   "execution_count": 69,
   "metadata": {},
   "outputs": [
    {
     "data": {
      "text/plain": [
       "'More information...'"
      ]
     },
     "execution_count": 69,
     "metadata": {},
     "output_type": "execute_result"
    }
   ],
   "source": [
    "tag = prob4()\n",
    "tag"
   ]
  },
  {
   "cell_type": "code",
   "execution_count": 126,
   "metadata": {},
   "outputs": [
    {
     "data": {
      "text/plain": [
       "[<h2 class=\"history-date\">Thursday, January 1, 2015</h2>,\n",
       " [<a href=\"/history/airport/KSAN/2014/12/31/DailyHistory.html\">« Previous Day</a>,\n",
       "  <a href=\"/history/airport/KSAN/2015/1/2/DailyHistory.html\">Next Day »</a>],\n",
       " <span class=\"wx-value\">59</span>]"
      ]
     },
     "execution_count": 126,
     "metadata": {},
     "output_type": "execute_result"
    }
   ],
   "source": [
    "prob5()"
   ]
  },
  {
   "cell_type": "code",
   "execution_count": 135,
   "metadata": {},
   "outputs": [
    {
     "data": {
      "text/plain": [
       "[<a href=\"http://www.federalreserve.gov/releases/lbr/20141231/default.htm\">December 31, 2014</a>,\n",
       " <a href=\"http://www.federalreserve.gov/releases/lbr/20140930/default.htm\">September 30, 2014</a>,\n",
       " <a href=\"http://www.federalreserve.gov/releases/lbr/20140630/default.htm\">June 30, 2014</a>,\n",
       " <a href=\"http://www.federalreserve.gov/releases/lbr/20140331/default.htm\">March 31, 2014</a>,\n",
       " <a href=\"http://www.federalreserve.gov/releases/lbr/20131231/default.htm\">December 31, 2013</a>,\n",
       " <a href=\"http://www.federalreserve.gov/releases/lbr/20130930/default.htm\">September 30, 2013</a>,\n",
       " <a href=\"http://www.federalreserve.gov/releases/lbr/20130630/default.htm\">June 30, 2013</a>,\n",
       " <a href=\"http://www.federalreserve.gov/releases/lbr/20130331/default.htm\">March 31, 2013</a>,\n",
       " <a href=\"http://www.federalreserve.gov/releases/lbr/20121231/default.htm\">December 31, 2012</a>,\n",
       " <a href=\"http://www.federalreserve.gov/releases/lbr/20120930/default.htm\">September 30, 2012</a>,\n",
       " <a href=\"http://www.federalreserve.gov/releases/lbr/20120630/default.htm\">June 30, 2012</a>,\n",
       " <a href=\"http://www.federalreserve.gov/releases/lbr/20120331/default.htm\">March 31, 2012</a>,\n",
       " <a href=\"http://www.federalreserve.gov/releases/lbr/20111231/default.htm\">December 31, 2011</a>,\n",
       " <a href=\"http://www.federalreserve.gov/releases/lbr/20110930/default.htm\">September 30, 2011</a>,\n",
       " <a href=\"http://www.federalreserve.gov/releases/lbr/20110630/default.htm\">June 30, 2011</a>,\n",
       " <a href=\"http://www.federalreserve.gov/releases/lbr/20110331/default.htm\">March 31, 2011</a>,\n",
       " <a href=\"http://www.federalreserve.gov/releases/lbr/20101231/default.htm\">December 31, 2010</a>,\n",
       " <a href=\"http://www.federalreserve.gov/releases/lbr/20100930/default.htm\">September 30, 2010</a>,\n",
       " <a href=\"http://www.federalreserve.gov/releases/lbr/20100630/default.htm\">June 30, 2010</a>,\n",
       " <a href=\"http://www.federalreserve.gov/releases/lbr/20100331/default.htm\">March 31, 2010</a>,\n",
       " <a href=\"http://www.federalreserve.gov/releases/lbr/20091231/default.htm\">December 31, 2009</a>,\n",
       " <a href=\"http://www.federalreserve.gov/releases/lbr/20090930/default.htm\">September 30, 2009</a>,\n",
       " <a href=\"http://www.federalreserve.gov/releases/lbr/20090630/default.htm\">June 30, 2009</a>,\n",
       " <a href=\"http://www.federalreserve.gov/releases/lbr/20090331/default.htm\">March 31, 2009</a>,\n",
       " <a href=\"http://www.federalreserve.gov/releases/lbr/20081231/default.htm\">December 31, 2008</a>,\n",
       " <a href=\"http://www.federalreserve.gov/releases/lbr/20080930/default.htm\">September 30, 2008</a>,\n",
       " <a href=\"http://www.federalreserve.gov/releases/lbr/20080630/default.htm\">June 30, 2008</a>,\n",
       " <a href=\"http://www.federalreserve.gov/releases/lbr/20080331/default.htm\">March 31, 2008</a>,\n",
       " <a href=\"http://www.federalreserve.gov/releases/lbr/20071231/default.htm\">December 31, 2007</a>,\n",
       " <a href=\"http://www.federalreserve.gov/releases/lbr/20070930/default.htm\">September 30, 2007</a>,\n",
       " <a href=\"http://www.federalreserve.gov/releases/lbr/20070630/default.htm\">June 30, 2007</a>,\n",
       " <a href=\"http://www.federalreserve.gov/releases/lbr/20070331/default.htm\">March 31, 2007</a>,\n",
       " <a href=\"http://www.federalreserve.gov/releases/lbr/20061231/default.htm\">December 31, 2006</a>,\n",
       " <a href=\"http://www.federalreserve.gov/releases/lbr/20060930/default.htm\">September 30, 2006</a>,\n",
       " <a href=\"http://www.federalreserve.gov/releases/lbr/20060630/default.htm\">June 30, 2006</a>,\n",
       " <a href=\"http://www.federalreserve.gov/releases/lbr/20060331/default.htm\">March 31, 2006</a>,\n",
       " <a href=\"http://www.federalreserve.gov/releases/lbr/20051231/default.htm\">December 31, 2005</a>,\n",
       " <a href=\"http://www.federalreserve.gov/releases/lbr/20050930/default.htm\">September 30, 2005</a>,\n",
       " <a href=\"http://www.federalreserve.gov/releases/lbr/20050630/default.htm\">June 30, 2005</a>,\n",
       " <a href=\"http://www.federalreserve.gov/releases/lbr/20050331/default.htm\">March 31, 2005</a>,\n",
       " <a href=\"http://www.federalreserve.gov/releases/lbr/20041231/default.htm\">December 31, 2004</a>,\n",
       " <a href=\"http://www.federalreserve.gov/releases/lbr/20040930/default.htm\">September 30, 2004</a>,\n",
       " <a href=\"http://www.federalreserve.gov/releases/lbr/20040630/default.htm\">June 30, 2004</a>,\n",
       " <a href=\"http://www.federalreserve.gov/releases/lbr/20040331/default.htm\">March 31, 2004</a>,\n",
       " <a href=\"http://www.federalreserve.gov/releases/lbr/20031231/default.htm\">December 31, 2003</a>,\n",
       " <a href=\"http://www.federalreserve.gov/releases/lbr/20030930/default.htm\">September 30, 2003</a>]"
      ]
     },
     "execution_count": 135,
     "metadata": {},
     "output_type": "execute_result"
    }
   ],
   "source": [
    "prob6()"
   ]
  },
  {
   "cell_type": "code",
   "execution_count": 33,
   "metadata": {},
   "outputs": [
    {
     "data": {
      "image/png": "[encoded data removed]",
      "text/plain": [
       "<Figure size 432x288 with 2 Axes>"
      ]
     },
     "metadata": {
      "needs_background": "light"
     },
     "output_type": "display_data"
    }
   ],
   "source": [
    "fig, axes = plt.subplots(2,1)\n",
    "\n",
    "df = prob()\n",
    "df1 = df.copy()\n",
    "domestic = df1.sort_values([\"Domestic Branches\"], ascending=False)[:7]\n",
    "domestic[\"Domestic Branches\"] = domestic[\"Domestic Branches\"].astype(float)\n",
    "domestic.plot.barh(y=\"Domestic Branches\", x=\"Bank Name / Holding Co Name\" \n",
    "                   , title=\"Top Seven Banks by Domestic Branches\", ax=axes[0])\n",
    "\n",
    "df[\"Foreign Branches\"] = pd.to_numeric(df[\"Foreign Branches\"], errors=\"coerce\")\n",
    "foreign = df.sort_values([\"Foreign Branches\"], ascending=False)[:7]\n",
    "foreign[\"Foreign Branches\"] = pd.to_numeric(foreign[\"Foreign Branches\"], errors=\"coerce\")\n",
    "foreign.sort_values([\"Foreign Branches\"], ascending=False)\n",
    "foreign.plot.barh(y=\"Foreign Branches\", x=\"Bank Name / Holding Co Name\"\n",
    "                  , title=\"Top Seven Banks by Foreign Branches\", ax=axes[1])\n",
    "\n",
    "plt.show()\n"
   ]
  },
  {
   "cell_type": "code",
   "execution_count": null,
   "metadata": {},
   "outputs": [],
   "source": []
  }
 ],
 "metadata": {
  "kernelspec": {
   "display_name": "Python 3",
   "language": "python",
   "name": "python3"
  },
  "language_info": {
   "codemirror_mode": {
    "name": "ipython",
    "version": 3
   },
   "file_extension": ".py",
   "mimetype": "text/x-python",
   "name": "python",
   "nbconvert_exporter": "python",
   "pygments_lexer": "ipython3",
   "version": "3.7.4"
  }
 },
 "nbformat": 4,
 "nbformat_minor": 2
}
