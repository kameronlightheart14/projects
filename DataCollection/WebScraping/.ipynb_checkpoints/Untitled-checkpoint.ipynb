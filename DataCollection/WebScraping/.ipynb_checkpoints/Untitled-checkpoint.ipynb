{
 "cells": [
  {
   "cell_type": "code",
   "execution_count": 2,
   "metadata": {},
   "outputs": [],
   "source": [
    "\"\"\"Volume 3: Web Scraping.\n",
    "Kameron Lightheart\n",
    "MATH 403\n",
    "9/16/2019\n",
    "\"\"\"\n",
    "\n",
    "import requests\n",
    "from bs4 import BeautifulSoup\n",
    "import re\n",
    "import pandas as pd\n",
    "from matplotlib import pyplot as plt\n",
    "\n",
    "# Problem 1\n",
    "def prob1():\n",
    "    # Get source from example.com\n",
    "    response = requests.get(\"http://www.example.com\")\n",
    "    # Write the source to a new example.html file\n",
    "    with open(\"example.html\", \"w\") as file:\n",
    "        file.write(response.text)\n",
    "        \n",
    "    return response\n",
    "    \n",
    "# Problem 2\n",
    "def prob2():\n",
    "    \"\"\"Examine the source code of http://www.example.com. Determine the names\n",
    "    of the tags in the code and the value of the 'type' attribute associated\n",
    "    with the 'style' tag.\n",
    "\n",
    "    Returns:\n",
    "        (set): A set of strings, each of which is the name of a tag.\n",
    "        (str): The value of the 'type' attribute in the 'style' tag.\n",
    "    \"\"\"\n",
    "    soup = None\n",
    "    with open(\"example.html\", \"r\") as file:\n",
    "        soup = BeautifulSoup(file)\n",
    "    tags = { tag.name for tag in soup.find_all() }\n",
    "    style_value = soup.find_all('style')[0].text\n",
    "    return tags, style_value\n",
    "\n",
    "\n",
    "# Problem 3\n",
    "def prob3(code):\n",
    "    \"\"\"Return a list of the names of the tags in the given HTML code.\"\"\"\n",
    "    soup = BeautifulSoup(code)\n",
    "    tags = [ tag.name for tag in soup.find_all() ]\n",
    "    return tags\n",
    "\n",
    "\n",
    "# Problem 4\n",
    "def prob4(filename=\"example.html\"):\n",
    "    \"\"\"Read the specified file and load it into BeautifulSoup. Find the only\n",
    "    <a> tag with a hyperlink and return its text.\n",
    "    \"\"\"\n",
    "    html_soup = BeautifulSoup(prob1().text)\n",
    "    a_href = html_soup.find(\"a\", attrs={\"href\": True})\n",
    "    return a_href.text\n",
    "\n",
    "\n",
    "# Problem 5\n",
    "def prob5(filename=\"san_diego_weather.html\"):\n",
    "    \"\"\"Read the specified file and load it into BeautifulSoup. Return a list\n",
    "    of the following tags:\n",
    "\n",
    "    1. The tag containing the date 'Thursday, January 1, 2015'.\n",
    "    2. The tags which contain the links 'Previous Day' and 'Next Day'.\n",
    "    3. The tag which contains the number associated with the Actual Max\n",
    "        Temperature.\n",
    "\n",
    "    Returns:\n",
    "        (list) A list of bs4.element.Tag objects (NOT text).\n",
    "    \"\"\"\n",
    "    soup = None\n",
    "    with open(filename, \"r\") as file:\n",
    "        soup = BeautifulSoup(file)\n",
    "    return_list = []\n",
    "    return_list.append(soup.find(string=\"Thursday, January 1, 2015\").parent)\n",
    "    tags_2 = soup.find_all(string=re.compile(r\"(Previous Day|Next Day)\"))\n",
    "    return_list.append([tag.parent for tag in tags_2])\n",
    "    \n",
    "    parent = soup.find(string=\"Max Temperature\").parent.parent.parent\n",
    "    child = parent.find(\"span\", {\"class\": \"wx-value\"})\n",
    "    return_list.append(child)\n",
    "    \n",
    "    return return_list\n",
    "\n",
    "\n",
    "# Problem 6\n",
    "def prob6(filename=\"large_banks_index.html\"):\n",
    "    \"\"\"Read the specified file and load it into BeautifulSoup. Return a list\n",
    "    of the tags containing the links to bank data from September 30, 2003 to\n",
    "    December 31, 2014, where the dates are in reverse chronological order.\n",
    "\n",
    "    Returns:\n",
    "        (list): A list of bs4.element.Tag objects (NOT text).\n",
    "    \"\"\"\n",
    "    soup = None\n",
    "    with open(filename, \"r\") as file:\n",
    "        soup = BeautifulSoup(file)\n",
    "    dates = soup.find_all(\"a\", string=re.compile(r\"[A-z]+ [0-9]+, [0-9]+\"))\n",
    "    return dates[1:]\n",
    "\n",
    "\n",
    "# Problem 7\n",
    "def prob(filename=\"large_banks_data.html\"):\n",
    "    \"\"\"Read the specified file and load it into BeautifulSoup. Create a single\n",
    "    figure with two subplots:\n",
    "\n",
    "    1. A sorted bar chart of the seven banks with the most domestic branches.\n",
    "    2. A sorted bar chart of the seven banks with the most foreign branches.\n",
    "\n",
    "    In the case of a tie, sort the banks alphabetically by name.\n",
    "    \"\"\"\n",
    "    soup = None\n",
    "    with open(filename, \"r\") as file:\n",
    "        soup = BeautifulSoup(file)\n",
    "    table = soup.find(\"table\", {\"cellpadding\": \"7\"})\n",
    "    df = pd.read_html(str(table))[0]\n",
    "    return df\n",
    "    \n"
   ]
  },
  {
   "cell_type": "code",
   "execution_count": 88,
   "metadata": {},
   "outputs": [],
   "source": [
    "html = prob1()"
   ]
  },
  {
   "cell_type": "code",
   "execution_count": null,
   "metadata": {},
   "outputs": [],
   "source": []
  },
  {
   "cell_type": "code",
   "execution_count": 68,
   "metadata": {},
   "outputs": [
    {
     "data": {
      "text/plain": [
       "['html',\n",
       " 'head',\n",
       " 'title',\n",
       " 'meta',\n",
       " 'meta',\n",
       " 'meta',\n",
       " 'style',\n",
       " 'body',\n",
       " 'div',\n",
       " 'h1',\n",
       " 'p',\n",
       " 'p',\n",
       " 'a']"
      ]
     },
     "execution_count": 68,
     "metadata": {},
     "output_type": "execute_result"
    }
   ],
   "source": [
    "prob3(html.text)"
   ]
  },
  {
   "cell_type": "code",
   "execution_count": 69,
   "metadata": {},
   "outputs": [
    {
     "data": {
      "text/plain": [
       "'More information...'"
      ]
     },
     "execution_count": 69,
     "metadata": {},
     "output_type": "execute_result"
    }
   ],
   "source": [
    "tag = prob4()\n",
    "tag"
   ]
  },
  {
   "cell_type": "code",
   "execution_count": 126,
   "metadata": {},
   "outputs": [
    {
     "data": {
      "text/plain": [
       "[<h2 class=\"history-date\">Thursday, January 1, 2015</h2>,\n",
       " [<a href=\"/history/airport/KSAN/2014/12/31/DailyHistory.html\">« Previous Day</a>,\n",
       "  <a href=\"/history/airport/KSAN/2015/1/2/DailyHistory.html\">Next Day »</a>],\n",
       " <span class=\"wx-value\">59</span>]"
      ]
     },
     "execution_count": 126,
     "metadata": {},
     "output_type": "execute_result"
    }
   ],
   "source": [
    "prob5()"
   ]
  },
  {
   "cell_type": "code",
   "execution_count": 135,
   "metadata": {},
   "outputs": [
    {
     "data": {
      "text/plain": [
       "[<a href=\"http://www.federalreserve.gov/releases/lbr/20141231/default.htm\">December 31, 2014</a>,\n",
       " <a href=\"http://www.federalreserve.gov/releases/lbr/20140930/default.htm\">September 30, 2014</a>,\n",
       " <a href=\"http://www.federalreserve.gov/releases/lbr/20140630/default.htm\">June 30, 2014</a>,\n",
       " <a href=\"http://www.federalreserve.gov/releases/lbr/20140331/default.htm\">March 31, 2014</a>,\n",
       " <a href=\"http://www.federalreserve.gov/releases/lbr/20131231/default.htm\">December 31, 2013</a>,\n",
       " <a href=\"http://www.federalreserve.gov/releases/lbr/20130930/default.htm\">September 30, 2013</a>,\n",
       " <a href=\"http://www.federalreserve.gov/releases/lbr/20130630/default.htm\">June 30, 2013</a>,\n",
       " <a href=\"http://www.federalreserve.gov/releases/lbr/20130331/default.htm\">March 31, 2013</a>,\n",
       " <a href=\"http://www.federalreserve.gov/releases/lbr/20121231/default.htm\">December 31, 2012</a>,\n",
       " <a href=\"http://www.federalreserve.gov/releases/lbr/20120930/default.htm\">September 30, 2012</a>,\n",
       " <a href=\"http://www.federalreserve.gov/releases/lbr/20120630/default.htm\">June 30, 2012</a>,\n",
       " <a href=\"http://www.federalreserve.gov/releases/lbr/20120331/default.htm\">March 31, 2012</a>,\n",
       " <a href=\"http://www.federalreserve.gov/releases/lbr/20111231/default.htm\">December 31, 2011</a>,\n",
       " <a href=\"http://www.federalreserve.gov/releases/lbr/20110930/default.htm\">September 30, 2011</a>,\n",
       " <a href=\"http://www.federalreserve.gov/releases/lbr/20110630/default.htm\">June 30, 2011</a>,\n",
       " <a href=\"http://www.federalreserve.gov/releases/lbr/20110331/default.htm\">March 31, 2011</a>,\n",
       " <a href=\"http://www.federalreserve.gov/releases/lbr/20101231/default.htm\">December 31, 2010</a>,\n",
       " <a href=\"http://www.federalreserve.gov/releases/lbr/20100930/default.htm\">September 30, 2010</a>,\n",
       " <a href=\"http://www.federalreserve.gov/releases/lbr/20100630/default.htm\">June 30, 2010</a>,\n",
       " <a href=\"http://www.federalreserve.gov/releases/lbr/20100331/default.htm\">March 31, 2010</a>,\n",
       " <a href=\"http://www.federalreserve.gov/releases/lbr/20091231/default.htm\">December 31, 2009</a>,\n",
       " <a href=\"http://www.federalreserve.gov/releases/lbr/20090930/default.htm\">September 30, 2009</a>,\n",
       " <a href=\"http://www.federalreserve.gov/releases/lbr/20090630/default.htm\">June 30, 2009</a>,\n",
       " <a href=\"http://www.federalreserve.gov/releases/lbr/20090331/default.htm\">March 31, 2009</a>,\n",
       " <a href=\"http://www.federalreserve.gov/releases/lbr/20081231/default.htm\">December 31, 2008</a>,\n",
       " <a href=\"http://www.federalreserve.gov/releases/lbr/20080930/default.htm\">September 30, 2008</a>,\n",
       " <a href=\"http://www.federalreserve.gov/releases/lbr/20080630/default.htm\">June 30, 2008</a>,\n",
       " <a href=\"http://www.federalreserve.gov/releases/lbr/20080331/default.htm\">March 31, 2008</a>,\n",
       " <a href=\"http://www.federalreserve.gov/releases/lbr/20071231/default.htm\">December 31, 2007</a>,\n",
       " <a href=\"http://www.federalreserve.gov/releases/lbr/20070930/default.htm\">September 30, 2007</a>,\n",
       " <a href=\"http://www.federalreserve.gov/releases/lbr/20070630/default.htm\">June 30, 2007</a>,\n",
       " <a href=\"http://www.federalreserve.gov/releases/lbr/20070331/default.htm\">March 31, 2007</a>,\n",
       " <a href=\"http://www.federalreserve.gov/releases/lbr/20061231/default.htm\">December 31, 2006</a>,\n",
       " <a href=\"http://www.federalreserve.gov/releases/lbr/20060930/default.htm\">September 30, 2006</a>,\n",
       " <a href=\"http://www.federalreserve.gov/releases/lbr/20060630/default.htm\">June 30, 2006</a>,\n",
       " <a href=\"http://www.federalreserve.gov/releases/lbr/20060331/default.htm\">March 31, 2006</a>,\n",
       " <a href=\"http://www.federalreserve.gov/releases/lbr/20051231/default.htm\">December 31, 2005</a>,\n",
       " <a href=\"http://www.federalreserve.gov/releases/lbr/20050930/default.htm\">September 30, 2005</a>,\n",
       " <a href=\"http://www.federalreserve.gov/releases/lbr/20050630/default.htm\">June 30, 2005</a>,\n",
       " <a href=\"http://www.federalreserve.gov/releases/lbr/20050331/default.htm\">March 31, 2005</a>,\n",
       " <a href=\"http://www.federalreserve.gov/releases/lbr/20041231/default.htm\">December 31, 2004</a>,\n",
       " <a href=\"http://www.federalreserve.gov/releases/lbr/20040930/default.htm\">September 30, 2004</a>,\n",
       " <a href=\"http://www.federalreserve.gov/releases/lbr/20040630/default.htm\">June 30, 2004</a>,\n",
       " <a href=\"http://www.federalreserve.gov/releases/lbr/20040331/default.htm\">March 31, 2004</a>,\n",
       " <a href=\"http://www.federalreserve.gov/releases/lbr/20031231/default.htm\">December 31, 2003</a>,\n",
       " <a href=\"http://www.federalreserve.gov/releases/lbr/20030930/default.htm\">September 30, 2003</a>]"
      ]
     },
     "execution_count": 135,
     "metadata": {},
     "output_type": "execute_result"
    }
   ],
   "source": [
    "prob6()"
   ]
  },
  {
   "cell_type": "code",
   "execution_count": 20,
   "metadata": {},
   "outputs": [
    {
     "name": "stdout",
     "output_type": "stream",
     "text": [
      "                         Bank Name / Holding Co Name  Natl Rank  Bank ID  \\\n",
      "0            JPMORGAN CHASE BK/J P MORGAN CHASE & CO          1   852218   \n",
      "1                  BANK OF AMER NA/BANK OF AMER CORP          2   480228   \n",
      "2                              CITIBANK NA/CITIGROUP          3   476810   \n",
      "3                       WACHOVIA BK NA/WACHOVIA CORP          4   484422   \n",
      "4                 WELLS FARGO BK NA/WELLS FARGO & CO          5   451965   \n",
      "...                                              ...        ...      ...   \n",
      "1375              MIDAMERICA NB/MIDAMERICA NAT BSHRS       1369   510938   \n",
      "1376        AMERICAN MARINE BK/AMB FS CORP ESOP 401K       1370   691079   \n",
      "1377                FIRST NB OF SCOTTSBORO/FNS BSHRS       1371   441434   \n",
      "1378  INTERNATIONAL BK CMRC/INTERNATIONAL BSHRS CORP       1372   382069   \n",
      "1379                    MARYLAND B&TC NA/MARYLAND BC       1373    33727   \n",
      "\n",
      "              Bank Location Charter Consol Assets Domestic Assets  \\\n",
      "0              NEW YORK, NY     SMB        638120          393562   \n",
      "1             CHARLOTTE, NC     NAT        624723          568790   \n",
      "2              NEW YORK, NY     NAT        554540          246782   \n",
      "3             CHARLOTTE, NC     NAT        344056          326714   \n",
      "4         SAN FRANCISCO, CA     NAT        224376          223819   \n",
      "...                     ...     ...           ...             ...   \n",
      "1375             CANTON, IL     NAT           302             302   \n",
      "1376  BAINBRIDGE ISLAND, WA     SNM           301             301   \n",
      "1377         SCOTTSBORO, AL     NAT           301             301   \n",
      "1378             ZAPATA, TX     SNM           300             300   \n",
      "1379     LEXINGTON PARK, MD     NAT           300             300   \n",
      "\n",
      "     Pct DomesticAssets Pct CumulativeAssets Domestic Branches  \\\n",
      "0                    62                   10               718   \n",
      "1                    91                   19              4580   \n",
      "2                    45                   27               388   \n",
      "3                    95                   32              3193   \n",
      "4                   100                   36              1079   \n",
      "...                 ...                  ...               ...   \n",
      "1375                100                  100                 6   \n",
      "1376                100                  100                 5   \n",
      "1377                100                  100                 8   \n",
      "1378                100                  100                 2   \n",
      "1379                100                  100                10   \n",
      "\n",
      "     Foreign Branches IBF Pct ForeignOwned  \n",
      "0                 108   Y             0.00  \n",
      "1                  37   Y             0.00  \n",
      "2                 364   Y             0.00  \n",
      "3                   5   Y             0.00  \n",
      "4                   0   Y             0.00  \n",
      "...               ...  ..              ...  \n",
      "1375                0   N             0.00  \n",
      "1376                0   N             0.00  \n",
      "1377                0   N             0.00  \n",
      "1378                0   N             0.00  \n",
      "1379                0   N             0.00  \n",
      "\n",
      "[1380 rows x 13 columns]\n"
     ]
    },
    {
     "ename": "ValueError",
     "evalue": "could not convert string to float: '.'",
     "output_type": "error",
     "traceback": [
      "\u001b[1;31m---------------------------------------------------------------------------\u001b[0m",
      "\u001b[1;31mValueError\u001b[0m                                Traceback (most recent call last)",
      "\u001b[1;32m<ipython-input-20-83c1ac7ea901>\u001b[0m in \u001b[0;36m<module>\u001b[1;34m\u001b[0m\n\u001b[0;32m      4\u001b[0m \u001b[0mdomestic\u001b[0m \u001b[1;33m=\u001b[0m \u001b[0mdf\u001b[0m\u001b[1;33m.\u001b[0m\u001b[0mcopy\u001b[0m\u001b[1;33m(\u001b[0m\u001b[1;33m)\u001b[0m\u001b[1;33m\u001b[0m\u001b[1;33m\u001b[0m\u001b[0m\n\u001b[0;32m      5\u001b[0m \u001b[0mprint\u001b[0m\u001b[1;33m(\u001b[0m\u001b[0mdomestic\u001b[0m\u001b[1;33m)\u001b[0m\u001b[1;33m\u001b[0m\u001b[1;33m\u001b[0m\u001b[0m\n\u001b[1;32m----> 6\u001b[1;33m \u001b[0mdomestic\u001b[0m\u001b[1;33m[\u001b[0m\u001b[1;34m\"Domestic Branches\"\u001b[0m\u001b[1;33m]\u001b[0m \u001b[1;33m=\u001b[0m \u001b[0mdomestic\u001b[0m\u001b[1;33m[\u001b[0m\u001b[1;34m\"Domestic Branches\"\u001b[0m\u001b[1;33m]\u001b[0m\u001b[1;33m.\u001b[0m\u001b[0mastype\u001b[0m\u001b[1;33m(\u001b[0m\u001b[0mfloat\u001b[0m\u001b[1;33m)\u001b[0m\u001b[1;33m\u001b[0m\u001b[1;33m\u001b[0m\u001b[0m\n\u001b[0m\u001b[0;32m      7\u001b[0m \u001b[0mdomestic\u001b[0m\u001b[1;33m.\u001b[0m\u001b[0msort_values\u001b[0m\u001b[1;33m(\u001b[0m\u001b[1;33m[\u001b[0m\u001b[1;34m\"Domestic Branches\"\u001b[0m\u001b[1;33m]\u001b[0m\u001b[1;33m,\u001b[0m \u001b[0mascending\u001b[0m\u001b[1;33m=\u001b[0m\u001b[1;32mFalse\u001b[0m\u001b[1;33m)\u001b[0m\u001b[1;33m\u001b[0m\u001b[1;33m\u001b[0m\u001b[0m\n\u001b[0;32m      8\u001b[0m domestic.plot.barh(y=\"Domestic Branches\", x=\"Bank Name / Holding Co Name\" \n",
      "\u001b[1;32mC:\\Anaconda3\\lib\\site-packages\\pandas\\core\\generic.py\u001b[0m in \u001b[0;36mastype\u001b[1;34m(self, dtype, copy, errors, **kwargs)\u001b[0m\n\u001b[0;32m   5880\u001b[0m             \u001b[1;31m# else, only a single dtype is given\u001b[0m\u001b[1;33m\u001b[0m\u001b[1;33m\u001b[0m\u001b[1;33m\u001b[0m\u001b[0m\n\u001b[0;32m   5881\u001b[0m             new_data = self._data.astype(\n\u001b[1;32m-> 5882\u001b[1;33m                 \u001b[0mdtype\u001b[0m\u001b[1;33m=\u001b[0m\u001b[0mdtype\u001b[0m\u001b[1;33m,\u001b[0m \u001b[0mcopy\u001b[0m\u001b[1;33m=\u001b[0m\u001b[0mcopy\u001b[0m\u001b[1;33m,\u001b[0m \u001b[0merrors\u001b[0m\u001b[1;33m=\u001b[0m\u001b[0merrors\u001b[0m\u001b[1;33m,\u001b[0m \u001b[1;33m**\u001b[0m\u001b[0mkwargs\u001b[0m\u001b[1;33m\u001b[0m\u001b[1;33m\u001b[0m\u001b[0m\n\u001b[0m\u001b[0;32m   5883\u001b[0m             )\n\u001b[0;32m   5884\u001b[0m             \u001b[1;32mreturn\u001b[0m \u001b[0mself\u001b[0m\u001b[1;33m.\u001b[0m\u001b[0m_constructor\u001b[0m\u001b[1;33m(\u001b[0m\u001b[0mnew_data\u001b[0m\u001b[1;33m)\u001b[0m\u001b[1;33m.\u001b[0m\u001b[0m__finalize__\u001b[0m\u001b[1;33m(\u001b[0m\u001b[0mself\u001b[0m\u001b[1;33m)\u001b[0m\u001b[1;33m\u001b[0m\u001b[1;33m\u001b[0m\u001b[0m\n",
      "\u001b[1;32mC:\\Anaconda3\\lib\\site-packages\\pandas\\core\\internals\\managers.py\u001b[0m in \u001b[0;36mastype\u001b[1;34m(self, dtype, **kwargs)\u001b[0m\n\u001b[0;32m    579\u001b[0m \u001b[1;33m\u001b[0m\u001b[0m\n\u001b[0;32m    580\u001b[0m     \u001b[1;32mdef\u001b[0m \u001b[0mastype\u001b[0m\u001b[1;33m(\u001b[0m\u001b[0mself\u001b[0m\u001b[1;33m,\u001b[0m \u001b[0mdtype\u001b[0m\u001b[1;33m,\u001b[0m \u001b[1;33m**\u001b[0m\u001b[0mkwargs\u001b[0m\u001b[1;33m)\u001b[0m\u001b[1;33m:\u001b[0m\u001b[1;33m\u001b[0m\u001b[1;33m\u001b[0m\u001b[0m\n\u001b[1;32m--> 581\u001b[1;33m         \u001b[1;32mreturn\u001b[0m \u001b[0mself\u001b[0m\u001b[1;33m.\u001b[0m\u001b[0mapply\u001b[0m\u001b[1;33m(\u001b[0m\u001b[1;34m\"astype\"\u001b[0m\u001b[1;33m,\u001b[0m \u001b[0mdtype\u001b[0m\u001b[1;33m=\u001b[0m\u001b[0mdtype\u001b[0m\u001b[1;33m,\u001b[0m \u001b[1;33m**\u001b[0m\u001b[0mkwargs\u001b[0m\u001b[1;33m)\u001b[0m\u001b[1;33m\u001b[0m\u001b[1;33m\u001b[0m\u001b[0m\n\u001b[0m\u001b[0;32m    582\u001b[0m \u001b[1;33m\u001b[0m\u001b[0m\n\u001b[0;32m    583\u001b[0m     \u001b[1;32mdef\u001b[0m \u001b[0mconvert\u001b[0m\u001b[1;33m(\u001b[0m\u001b[0mself\u001b[0m\u001b[1;33m,\u001b[0m \u001b[1;33m**\u001b[0m\u001b[0mkwargs\u001b[0m\u001b[1;33m)\u001b[0m\u001b[1;33m:\u001b[0m\u001b[1;33m\u001b[0m\u001b[1;33m\u001b[0m\u001b[0m\n",
      "\u001b[1;32mC:\\Anaconda3\\lib\\site-packages\\pandas\\core\\internals\\managers.py\u001b[0m in \u001b[0;36mapply\u001b[1;34m(self, f, axes, filter, do_integrity_check, consolidate, **kwargs)\u001b[0m\n\u001b[0;32m    436\u001b[0m                     \u001b[0mkwargs\u001b[0m\u001b[1;33m[\u001b[0m\u001b[0mk\u001b[0m\u001b[1;33m]\u001b[0m \u001b[1;33m=\u001b[0m \u001b[0mobj\u001b[0m\u001b[1;33m.\u001b[0m\u001b[0mreindex\u001b[0m\u001b[1;33m(\u001b[0m\u001b[0mb_items\u001b[0m\u001b[1;33m,\u001b[0m \u001b[0maxis\u001b[0m\u001b[1;33m=\u001b[0m\u001b[0maxis\u001b[0m\u001b[1;33m,\u001b[0m \u001b[0mcopy\u001b[0m\u001b[1;33m=\u001b[0m\u001b[0malign_copy\u001b[0m\u001b[1;33m)\u001b[0m\u001b[1;33m\u001b[0m\u001b[1;33m\u001b[0m\u001b[0m\n\u001b[0;32m    437\u001b[0m \u001b[1;33m\u001b[0m\u001b[0m\n\u001b[1;32m--> 438\u001b[1;33m             \u001b[0mapplied\u001b[0m \u001b[1;33m=\u001b[0m \u001b[0mgetattr\u001b[0m\u001b[1;33m(\u001b[0m\u001b[0mb\u001b[0m\u001b[1;33m,\u001b[0m \u001b[0mf\u001b[0m\u001b[1;33m)\u001b[0m\u001b[1;33m(\u001b[0m\u001b[1;33m**\u001b[0m\u001b[0mkwargs\u001b[0m\u001b[1;33m)\u001b[0m\u001b[1;33m\u001b[0m\u001b[1;33m\u001b[0m\u001b[0m\n\u001b[0m\u001b[0;32m    439\u001b[0m             \u001b[0mresult_blocks\u001b[0m \u001b[1;33m=\u001b[0m \u001b[0m_extend_blocks\u001b[0m\u001b[1;33m(\u001b[0m\u001b[0mapplied\u001b[0m\u001b[1;33m,\u001b[0m \u001b[0mresult_blocks\u001b[0m\u001b[1;33m)\u001b[0m\u001b[1;33m\u001b[0m\u001b[1;33m\u001b[0m\u001b[0m\n\u001b[0;32m    440\u001b[0m \u001b[1;33m\u001b[0m\u001b[0m\n",
      "\u001b[1;32mC:\\Anaconda3\\lib\\site-packages\\pandas\\core\\internals\\blocks.py\u001b[0m in \u001b[0;36mastype\u001b[1;34m(self, dtype, copy, errors, values, **kwargs)\u001b[0m\n\u001b[0;32m    557\u001b[0m \u001b[1;33m\u001b[0m\u001b[0m\n\u001b[0;32m    558\u001b[0m     \u001b[1;32mdef\u001b[0m \u001b[0mastype\u001b[0m\u001b[1;33m(\u001b[0m\u001b[0mself\u001b[0m\u001b[1;33m,\u001b[0m \u001b[0mdtype\u001b[0m\u001b[1;33m,\u001b[0m \u001b[0mcopy\u001b[0m\u001b[1;33m=\u001b[0m\u001b[1;32mFalse\u001b[0m\u001b[1;33m,\u001b[0m \u001b[0merrors\u001b[0m\u001b[1;33m=\u001b[0m\u001b[1;34m\"raise\"\u001b[0m\u001b[1;33m,\u001b[0m \u001b[0mvalues\u001b[0m\u001b[1;33m=\u001b[0m\u001b[1;32mNone\u001b[0m\u001b[1;33m,\u001b[0m \u001b[1;33m**\u001b[0m\u001b[0mkwargs\u001b[0m\u001b[1;33m)\u001b[0m\u001b[1;33m:\u001b[0m\u001b[1;33m\u001b[0m\u001b[1;33m\u001b[0m\u001b[0m\n\u001b[1;32m--> 559\u001b[1;33m         \u001b[1;32mreturn\u001b[0m \u001b[0mself\u001b[0m\u001b[1;33m.\u001b[0m\u001b[0m_astype\u001b[0m\u001b[1;33m(\u001b[0m\u001b[0mdtype\u001b[0m\u001b[1;33m,\u001b[0m \u001b[0mcopy\u001b[0m\u001b[1;33m=\u001b[0m\u001b[0mcopy\u001b[0m\u001b[1;33m,\u001b[0m \u001b[0merrors\u001b[0m\u001b[1;33m=\u001b[0m\u001b[0merrors\u001b[0m\u001b[1;33m,\u001b[0m \u001b[0mvalues\u001b[0m\u001b[1;33m=\u001b[0m\u001b[0mvalues\u001b[0m\u001b[1;33m,\u001b[0m \u001b[1;33m**\u001b[0m\u001b[0mkwargs\u001b[0m\u001b[1;33m)\u001b[0m\u001b[1;33m\u001b[0m\u001b[1;33m\u001b[0m\u001b[0m\n\u001b[0m\u001b[0;32m    560\u001b[0m \u001b[1;33m\u001b[0m\u001b[0m\n\u001b[0;32m    561\u001b[0m     \u001b[1;32mdef\u001b[0m \u001b[0m_astype\u001b[0m\u001b[1;33m(\u001b[0m\u001b[0mself\u001b[0m\u001b[1;33m,\u001b[0m \u001b[0mdtype\u001b[0m\u001b[1;33m,\u001b[0m \u001b[0mcopy\u001b[0m\u001b[1;33m=\u001b[0m\u001b[1;32mFalse\u001b[0m\u001b[1;33m,\u001b[0m \u001b[0merrors\u001b[0m\u001b[1;33m=\u001b[0m\u001b[1;34m\"raise\"\u001b[0m\u001b[1;33m,\u001b[0m \u001b[0mvalues\u001b[0m\u001b[1;33m=\u001b[0m\u001b[1;32mNone\u001b[0m\u001b[1;33m,\u001b[0m \u001b[1;33m**\u001b[0m\u001b[0mkwargs\u001b[0m\u001b[1;33m)\u001b[0m\u001b[1;33m:\u001b[0m\u001b[1;33m\u001b[0m\u001b[1;33m\u001b[0m\u001b[0m\n",
      "\u001b[1;32mC:\\Anaconda3\\lib\\site-packages\\pandas\\core\\internals\\blocks.py\u001b[0m in \u001b[0;36m_astype\u001b[1;34m(self, dtype, copy, errors, values, **kwargs)\u001b[0m\n\u001b[0;32m    641\u001b[0m                     \u001b[1;31m# _astype_nansafe works fine with 1-d only\u001b[0m\u001b[1;33m\u001b[0m\u001b[1;33m\u001b[0m\u001b[1;33m\u001b[0m\u001b[0m\n\u001b[0;32m    642\u001b[0m                     \u001b[0mvals1d\u001b[0m \u001b[1;33m=\u001b[0m \u001b[0mvalues\u001b[0m\u001b[1;33m.\u001b[0m\u001b[0mravel\u001b[0m\u001b[1;33m(\u001b[0m\u001b[1;33m)\u001b[0m\u001b[1;33m\u001b[0m\u001b[1;33m\u001b[0m\u001b[0m\n\u001b[1;32m--> 643\u001b[1;33m                     \u001b[0mvalues\u001b[0m \u001b[1;33m=\u001b[0m \u001b[0mastype_nansafe\u001b[0m\u001b[1;33m(\u001b[0m\u001b[0mvals1d\u001b[0m\u001b[1;33m,\u001b[0m \u001b[0mdtype\u001b[0m\u001b[1;33m,\u001b[0m \u001b[0mcopy\u001b[0m\u001b[1;33m=\u001b[0m\u001b[1;32mTrue\u001b[0m\u001b[1;33m,\u001b[0m \u001b[1;33m**\u001b[0m\u001b[0mkwargs\u001b[0m\u001b[1;33m)\u001b[0m\u001b[1;33m\u001b[0m\u001b[1;33m\u001b[0m\u001b[0m\n\u001b[0m\u001b[0;32m    644\u001b[0m \u001b[1;33m\u001b[0m\u001b[0m\n\u001b[0;32m    645\u001b[0m                 \u001b[1;31m# TODO(extension)\u001b[0m\u001b[1;33m\u001b[0m\u001b[1;33m\u001b[0m\u001b[1;33m\u001b[0m\u001b[0m\n",
      "\u001b[1;32mC:\\Anaconda3\\lib\\site-packages\\pandas\\core\\dtypes\\cast.py\u001b[0m in \u001b[0;36mastype_nansafe\u001b[1;34m(arr, dtype, copy, skipna)\u001b[0m\n\u001b[0;32m    727\u001b[0m     \u001b[1;32mif\u001b[0m \u001b[0mcopy\u001b[0m \u001b[1;32mor\u001b[0m \u001b[0mis_object_dtype\u001b[0m\u001b[1;33m(\u001b[0m\u001b[0marr\u001b[0m\u001b[1;33m)\u001b[0m \u001b[1;32mor\u001b[0m \u001b[0mis_object_dtype\u001b[0m\u001b[1;33m(\u001b[0m\u001b[0mdtype\u001b[0m\u001b[1;33m)\u001b[0m\u001b[1;33m:\u001b[0m\u001b[1;33m\u001b[0m\u001b[1;33m\u001b[0m\u001b[0m\n\u001b[0;32m    728\u001b[0m         \u001b[1;31m# Explicit copy, or required since NumPy can't view from / to object.\u001b[0m\u001b[1;33m\u001b[0m\u001b[1;33m\u001b[0m\u001b[1;33m\u001b[0m\u001b[0m\n\u001b[1;32m--> 729\u001b[1;33m         \u001b[1;32mreturn\u001b[0m \u001b[0marr\u001b[0m\u001b[1;33m.\u001b[0m\u001b[0mastype\u001b[0m\u001b[1;33m(\u001b[0m\u001b[0mdtype\u001b[0m\u001b[1;33m,\u001b[0m \u001b[0mcopy\u001b[0m\u001b[1;33m=\u001b[0m\u001b[1;32mTrue\u001b[0m\u001b[1;33m)\u001b[0m\u001b[1;33m\u001b[0m\u001b[1;33m\u001b[0m\u001b[0m\n\u001b[0m\u001b[0;32m    730\u001b[0m \u001b[1;33m\u001b[0m\u001b[0m\n\u001b[0;32m    731\u001b[0m     \u001b[1;32mreturn\u001b[0m \u001b[0marr\u001b[0m\u001b[1;33m.\u001b[0m\u001b[0mview\u001b[0m\u001b[1;33m(\u001b[0m\u001b[0mdtype\u001b[0m\u001b[1;33m)\u001b[0m\u001b[1;33m\u001b[0m\u001b[1;33m\u001b[0m\u001b[0m\n",
      "\u001b[1;31mValueError\u001b[0m: could not convert string to float: '.'"
     ]
    },
    {
     "data": {
      "image/png": "[encoded data removed]",
      "text/plain": [
       "<Figure size 432x288 with 2 Axes>"
      ]
     },
     "metadata": {
      "needs_background": "light"
     },
     "output_type": "display_data"
    }
   ],
   "source": [
    "fig, axes = plt.subplots(2,1)\n",
    "\n",
    "df = prob()\n",
    "domestic = df.sort_values([\"Domestic Branches\"], ascending=False)[:7]\n",
    "domestic[\"Domestic Branches\"] = domestic[\"Domestic Branches\"].astype(float)\n",
    "domestic.plot.barh(y=\"Domestic Branches\", x=\"Bank Name / Holding Co Name\" \n",
    "                   , title=\"Top Seven Banks by Domestic Branches\", ax=axes[0])\n",
    "\n",
    "foreign = df.sort_values([\"Foreign Branches\"], ascending=False)[:7]\n",
    "foreign[\"Foreign Branches\"] = foreign[\"Foreign Branches\"].astype(float)\n",
    "foreign.sort_values([\"Foreign Branches\"], ascending=False)\n",
    "foreign.plot.barh(y=\"Foreign Branches\", x=\"Bank Name / Holding Co Name\"\n",
    "                  , title=\"Top Seven Banks by Foreign Branches\", ax=axes[1])\n",
    "\n",
    "plt.show()\n"
   ]
  },
  {
   "cell_type": "code",
   "execution_count": null,
   "metadata": {},
   "outputs": [],
   "source": []
  }
 ],
 "metadata": {
  "kernelspec": {
   "display_name": "Python 3",
   "language": "python",
   "name": "python3"
  },
  "language_info": {
   "codemirror_mode": {
    "name": "ipython",
    "version": 3
   },
   "file_extension": ".py",
   "mimetype": "text/x-python",
   "name": "python",
   "nbconvert_exporter": "python",
   "pygments_lexer": "ipython3",
   "version": "3.7.4"
  }
 },
 "nbformat": 4,
 "nbformat_minor": 2
}
