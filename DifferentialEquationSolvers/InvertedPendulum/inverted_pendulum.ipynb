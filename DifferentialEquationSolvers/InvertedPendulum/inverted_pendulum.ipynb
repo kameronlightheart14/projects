{
 "cells": [
  {
   "cell_type": "code",
   "execution_count": 7,
   "metadata": {},
   "outputs": [],
   "source": [
    "import numpy as np\n",
    "from scipy.optimize import root\n",
    "from scipy.integrate import odeint\n",
    "from scipy.linalg import solve_continuous_are\n",
    "import matplotlib.pyplot as plt"
   ]
  },
  {
   "cell_type": "markdown",
   "metadata": {},
   "source": [
    "# Problem 1"
   ]
  },
  {
   "cell_type": "code",
   "execution_count": 2,
   "metadata": {},
   "outputs": [],
   "source": [
    "def linearized_init(M, m, l, q1, q2, q3, q4, r):\n",
    "    '''\n",
    "    Parameters:\n",
    "    ----------\n",
    "    M, m: floats\n",
    "          masses of the rickshaw and the present\n",
    "    l   : float\n",
    "          length of the rod\n",
    "    q1, q2, q3, q4, r : floats\n",
    "        relative weights of the position and velocity of the rickshaw, the\n",
    "        angular displacement theta and the change in theta, and the control\n",
    "\n",
    "\n",
    "    Return\n",
    "    -------\n",
    "    A : ndarray of shape (4,4)\n",
    "    B : ndarray of shape (4,1)\n",
    "    Q : ndarray of shape (4,4)\n",
    "    R : ndarray of shape (1,1)\n",
    "    '''\n",
    "    # Gravity constant\n",
    "    g = 9.8\n",
    "    \n",
    "    # A, B, Q and R matrices as described in the lab manual\n",
    "    A = np.array([[0,1,0,0],[0,0,m*g/M,0],[0,0,0,1],[0,0,(g/(M*l))*(M+m),0]])\n",
    "    \n",
    "    B = np.array([[0,1/M,0,1/(M*l)]]).reshape(4,1)\n",
    "    \n",
    "    Q = np.diag([q1,q2,q3,q4])\n",
    "    \n",
    "    R = np.array([r]).reshape(-1,1)\n",
    "    \n",
    "    return A,B,Q,R"
   ]
  },
  {
   "cell_type": "code",
   "execution_count": 8,
   "metadata": {},
   "outputs": [],
   "source": [
    "M, m = 23., 5.\n",
    "l = 4.\n",
    "q1, q2, q3, q4 = 1., 1., 1., 1.\n",
    "r = 10.\n",
    "A,B,Q,R = linearized_init(M, m, l, q1, q2, q3, q4, r)"
   ]
  },
  {
   "cell_type": "markdown",
   "metadata": {},
   "source": [
    "# Problem 2"
   ]
  },
  {
   "cell_type": "code",
   "execution_count": 9,
   "metadata": {},
   "outputs": [],
   "source": [
    "def find_P(A,B,Q,Rinv):\n",
    "    '''\n",
    "    Parameters:\n",
    "    ----------\n",
    "    A, B, Q : ndarrays of shape (4,4)\n",
    "    R : ndarray of shape (1,1)\n",
    "    \n",
    "    Returns\n",
    "    -------\n",
    "    P : the matrix solution of the Riccati equation\n",
    "    '''\n",
    "    # Function to construct equation (20.10) from manual\n",
    "    def func(P):\n",
    "        P = P.reshape(4,4)\n",
    "        out = P @ A + A.T @ P + Q - P @ B @ Rinv @ B.T @ P\n",
    "        return out.reshape(16)\n",
    "    \n",
    "    # Find zeros of func(P) equation with initial guess of 1s\n",
    "    x0 = np.ones((4,4)).reshape(16)\n",
    "    out = root(func,x0)\n",
    "    return out.x.reshape(4,4)"
   ]
  },
  {
   "cell_type": "code",
   "execution_count": 10,
   "metadata": {},
   "outputs": [
    {
     "data": {
      "text/plain": [
       "array([-1.72875212+0.j        , -0.07538846+0.07490226j,\n",
       "       -0.07538846-0.07490226j,  1.72530814+0.j        ])"
      ]
     },
     "execution_count": 10,
     "metadata": {},
     "output_type": "execute_result"
    }
   ],
   "source": [
    "Rinv = 1/R\n",
    "P = find_P(A,B,Q,1/R)\n",
    "term = A - B@Rinv@B.T@P\n",
    "vals,vects = np.linalg.eig(term)\n",
    "vals\n",
    "# 1 positive eigval\n",
    "# will Z->0 ???"
   ]
  },
  {
   "cell_type": "markdown",
   "metadata": {},
   "source": [
    "# Problem 3"
   ]
  },
  {
   "cell_type": "code",
   "execution_count": 11,
   "metadata": {},
   "outputs": [],
   "source": [
    "def rickshaw(tv, X0, A, B, Q, R_inv, P):\n",
    "    '''\n",
    "    Parameters:\n",
    "    ----------\n",
    "    tv : ndarray of time values, with shape (n+1,)\n",
    "    X0 : initial conditions on state variables\n",
    "    A, B, Q : ndarrays of shape (4,4)\n",
    "    R_inv : ndarray of shape (1,1), inverse of R\n",
    "    P : ndarray of shape (4,4)\n",
    "    \n",
    "    Returns\n",
    "    -------\n",
    "    Z : ndarray of shape (n+1,4), the state vector at each time\n",
    "    U : ndarray of shape (n,), the control values\n",
    "    '''\n",
    "    # Equation (20.11) for manual\n",
    "    def func(Z,t):\n",
    "        term = A - B @ R_inv @ B.T @P\n",
    "        return term @ Z\n",
    "    \n",
    "    # Find solution to (20.11) using odeint\n",
    "    Z = odeint(func, X0, tv)\n",
    "    U = np.array([-R_inv @ B.T @ P @ Z[i] for i in range(Z.shape[0])])\n",
    "    return Z,U\n",
    "    "
   ]
  },
  {
   "cell_type": "markdown",
   "metadata": {},
   "source": [
    "# Problem 4"
   ]
  },
  {
   "cell_type": "code",
   "execution_count": 13,
   "metadata": {},
   "outputs": [
    {
     "data": {
      "image/png": "[encoded data removed]",
      "text/plain": [
       "<Figure size 432x288 with 1 Axes>"
      ]
     },
     "metadata": {
      "needs_background": "light"
     },
     "output_type": "display_data"
    }
   ],
   "source": [
    "#Test the function from Problem 3 with the following inputs\n",
    "M, m = 23., 5.\n",
    "l = 4.\n",
    "q1, q2, q3, q4 = 1., 1., 1., 1.\n",
    "r = 10.\n",
    "tf1 = 6\n",
    "tf2 = 60\n",
    "X0 = np.array([-1., -1., .1, -.2])\n",
    "\n",
    "# Find the matrix P and plot the solutions.\n",
    "A,B,Q,R = linearized_init(M, m, l, q1, q2, q3, q4, r)\n",
    "R_inv = 1/R\n",
    "P = find_P(A,B,Q,R_inv)\n",
    "tv = np.linspace(0,tf1,100)\n",
    "\n",
    "Z,U = rickshaw(tv, X0, A, B, Q, R_inv, P)\n",
    "\n",
    "plt.plot(tv,Z[:,0],label='x')\n",
    "plt.plot(tv,Z[:,1],label='x_prime')\n",
    "plt.plot(tv,Z[:,2],label='theta')\n",
    "plt.plot(tv,Z[:,3],label='theta_prime')\n",
    "plt.plot(tv,U     ,label='u')\n",
    "plt.legend()\n",
    "plt.show()"
   ]
  },
  {
   "cell_type": "code",
   "execution_count": 14,
   "metadata": {},
   "outputs": [
    {
     "data": {
      "image/png": "[encoded data removed]",
      "text/plain": [
       "<Figure size 432x288 with 1 Axes>"
      ]
     },
     "metadata": {
      "needs_background": "light"
     },
     "output_type": "display_data"
    }
   ],
   "source": [
    "#Test the function from Problem 3 with the following inputs\n",
    "M, m = 23., 5.\n",
    "l = 4.\n",
    "q1, q2, q3, q4 = 1., 1., 1., 1.\n",
    "r = 10.\n",
    "tf1 = 6\n",
    "tf2 = 60\n",
    "X0 = np.array([-1., -1., .1, -.2])\n",
    "\n",
    "#Find the matrix P and plot the solutions\n",
    "A,B,Q,R = linearized_init(M, m, l, q1, q2, q3, q4, r)\n",
    "R_inv   = 1/R\n",
    "P       = solve_continuous_are(A,B,Q,R)\n",
    "tv      = np.linspace(0,tf2,100)\n",
    "\n",
    "Z,U = rickshaw(tv, X0, A, B, Q, R_inv, P)\n",
    "\n",
    "plt.plot(tv,Z[:,0],label='x')\n",
    "plt.plot(tv,Z[:,1],label='x_prime')\n",
    "plt.plot(tv,Z[:,2],label='theta')\n",
    "plt.plot(tv,Z[:,3],label='theta_prime')\n",
    "plt.plot(tv,U     ,label='u')\n",
    "plt.legend()\n",
    "plt.show()"
   ]
  }
 ],
 "metadata": {
  "kernelspec": {
   "display_name": "Python 3",
   "language": "python",
   "name": "python3"
  },
  "language_info": {
   "codemirror_mode": {
    "name": "ipython",
    "version": 3
   },
   "file_extension": ".py",
   "mimetype": "text/x-python",
   "name": "python",
   "nbconvert_exporter": "python",
   "pygments_lexer": "ipython3",
   "version": "3.7.3"
  }
 },
 "nbformat": 4,
 "nbformat_minor": 1
}
