{
 "cells": [
  {
   "cell_type": "code",
   "execution_count": 1,
   "metadata": {},
   "outputs": [],
   "source": [
    "from __future__ import division\n",
    "import numpy as np\n",
    "from matplotlib import animation, rcParams\n",
    "from matplotlib import pyplot as plt\n",
    "from matplotlib.artist import setp\n",
    "rcParams['figure.figsize'] = 12, 8.5\n",
    "from matplotlib.pyplot import Line2D\n",
    "import scipy.linalg as la\n",
    "from scipy import sparse\n",
    "from scipy.optimize import fsolve"
   ]
  },
  {
   "cell_type": "markdown",
   "metadata": {},
   "source": [
    "# Problem 1\n",
    "\n",
    "Consider the initial boundary value problem\n",
    "\n",
    "$$\n",
    "u_{tt} = u_{xx},\n",
    "$$\n",
    "$$\n",
    "u(0, t) = u(1, t) = 0,\n",
    "$$\n",
    "$$\n",
    "u(x, 0) = sin(2πx),\n",
    "$$\n",
    "$$\n",
    "u_t(x, 0) = 0.\n",
    "$$\n",
    "\n",
    "Numerically approximate the solution u(x, t) for t ∈ [0, .5]. Use J = 50 subintervals in the x\n",
    "dimension and M = 50 subintervals in the t dimension. Animate the results. Compare your\n",
    "results with the analytic solution u(x, t) = sin (2πx) cos (2πt). This function is known as a\n",
    "standing wave. See Figure 7.1."
   ]
  },
  {
   "cell_type": "code",
   "execution_count": 2,
   "metadata": {},
   "outputs": [],
   "source": [
    "def animate(X, U, title):\n",
    "    # turn off display while rendering\n",
    "    plt.ioff()    \n",
    "    n = U.shape[0] \n",
    "    \n",
    "    fig = plt.figure()\n",
    "    ax = fig.add_subplot(111)\n",
    "    ax.set_xlim((0, 1))\n",
    "    ax.set_ylim((-2, 2))    \n",
    "    # create the lines for the heat distribution\n",
    "    solution, = plt.plot([], [], color='b', label='solution')    \n",
    "    def update(i):\n",
    "        # At each frame update the plot\n",
    "        solution.set_data(X, U[i,:])        \n",
    "        return solution    \n",
    "    \n",
    "    # here we plot and animate the plot\n",
    "    plt.legend()\n",
    "    animation.writer = animation.writers['ffmpeg']\n",
    "    plt.title('Animation of Solution to Wave Equation')\n",
    "    ani = animation.FuncAnimation(fig, update, frames=range(n), interval=100)\n",
    "    ani.save(f'{title}.mp4')\n",
    "    plt.ion()\n",
    "    plt.close()"
   ]
  },
  {
   "cell_type": "code",
   "execution_count": 3,
   "metadata": {},
   "outputs": [],
   "source": [
    "def finite_diff(f, g, s, xbounds, tbounds, xsteps, tsteps):\n",
    "    J = xsteps\n",
    "    M = tsteps\n",
    "    # Set up values for computations\n",
    "    del_x = (xbounds[1] - xbounds[0]) / J\n",
    "    del_t = (tbounds[1] - tbounds[0]) / M\n",
    "    lamda = s * del_t / del_x\n",
    "\n",
    "    #Empty solution matrix\n",
    "    U = np.zeros((M+1,J+1))\n",
    "    # Initial conditions at time step 1 and 2\n",
    "    X = np.linspace(xbounds[0], xbounds[1], J+1)[1:-1]\n",
    "    U[0,1:-1] = [f(x) for x in X]\n",
    "    U[1,1:-1] = U[0,1:-1] + g(X)*del_t + (lamda**2/2)*(U[0,:-2]-2*U[0,1:-1]+U[0,2:])\n",
    "    \n",
    "    X = np.linspace(xbounds[0], xbounds[1], J+1)[1:-1]\n",
    "    # Set up A matrix\n",
    "    lamda_sq = lamda**2 * np.ones(J)\n",
    "    A =  np.diag(np.ones(J+1) * 2*(1-lamda**2), 0) + np.diag(lamda_sq, -1) + np.diag(lamda_sq, 1)\n",
    "\n",
    "    for m in range(1, M):\n",
    "        U[m+1,:] = A @ U[m, :] - U[m-1, :]\n",
    "        \n",
    "    return U"
   ]
  },
  {
   "cell_type": "code",
   "execution_count": 6,
   "metadata": {},
   "outputs": [
    {
     "data": {
      "image/png": "[encoded data removed]",
      "text/plain": [
       "<Figure size 432x288 with 1 Axes>"
      ]
     },
     "metadata": {},
     "output_type": "display_data"
    }
   ],
   "source": [
    "xbounds = [0, 1]\n",
    "tbounds = [0, 0.5]\n",
    "J = 50 # x steps\n",
    "M = 50 # t steps\n",
    "f = lambda x : np.sin(np.pi * 2 * x)\n",
    "g = lambda x : 0\n",
    "\n",
    "# Set up values for computations\n",
    "del_x = (xbounds[1] - xbounds[0]) / J\n",
    "del_t = (tbounds[1] - tbounds[0]) / M\n",
    "s = 1\n",
    "\n",
    "U = finite_diff(f, g, s, xbounds, tbounds, J, M)\n",
    "X = np.linspace(xbounds[0], xbounds[1], J+1)\n",
    "    \n",
    "plt.plot(X, U[0,:])\n",
    "title = \"wavequation1\"\n",
    "animate(X, U, title)"
   ]
  },
  {
   "cell_type": "markdown",
   "metadata": {},
   "source": [
    "<video src=\"wavequation1.mp4\" controls>"
   ]
  },
  {
   "cell_type": "markdown",
   "metadata": {},
   "source": [
    "# Problem 2\n",
    "\n",
    "Consider the initial boundary value problem\n",
    "$$\n",
    "u_{tt} = u_{xx,}\n",
    "$$\n",
    "$$\n",
    "u(0, t) = u(1, t) = 0,\n",
    "$$\n",
    "$$\n",
    "u(x, 0) = .2e^{−m^2(x−1/2)^2}\n",
    "$$\n",
    "$$\n",
    "u_t(x, 0) = .4m^2(x-1/2)e^{-m^2(x-1/2)^2}\n",
    "$$\n",
    "\n",
    "The solution of this problem is a Gaussian pulse. It travels to the right at a constant speed.\n",
    "This solution models, for example, a wave pulse in a stretched string. Note that the \u001c",
    "xed\n",
    "boundary conditions re\u001d",
    "ect the pulse back when it meets the boundary.\n",
    "Numerically approximate the solution u(x, t) for t ∈ [0, 1]. Set m = 20. Use 200 subintervals in space and 220 in time, and animate your results. Then use 200 subintervals in space\n",
    "and 180 in time, and animate your results. Note that the stability condition is not satis\u001c",
    "ed for\n",
    "the second mesh. See 7.2."
   ]
  },
  {
   "cell_type": "code",
   "execution_count": 8,
   "metadata": {},
   "outputs": [],
   "source": [
    "xbounds = [0, 1]\n",
    "tbounds = [0, 1]\n",
    "J = 200 # x steps\n",
    "M = 220 # t steps\n",
    "f = lambda x : 0.2 * np.exp(-400*(x-0.5)**2)\n",
    "g = lambda x : 0.4*400*(x-0.5)*np.exp(-400*(x-0.5)**2)\n",
    "\n",
    "# Set up values for computations\n",
    "del_x = (xbounds[1] - xbounds[0]) / J\n",
    "del_t = (tbounds[1] - tbounds[0]) / M\n",
    "s = 1\n",
    "\n",
    "U1 = finite_diff(f, g, s, xbounds, tbounds, J, M)\n",
    "U2 = finite_diff(f, g, s, xbounds, tbounds, 200, 180)\n",
    "X = np.linspace(xbounds[0], xbounds[1], J+1)\n",
    "\n",
    "title1 = \"wavequation2_1\"\n",
    "title2 = \"wavequation2_2\"\n",
    "animate(X, U1, title1)\n",
    "animate(X, U2, title2)"
   ]
  },
  {
   "cell_type": "markdown",
   "metadata": {},
   "source": [
    "<video src=\"wavequation2_1.mp4\" controls>"
   ]
  },
  {
   "cell_type": "markdown",
   "metadata": {},
   "source": [
    "<video src=\"wavequation2_2.mp4\" controls>"
   ]
  },
  {
   "cell_type": "markdown",
   "metadata": {},
   "source": [
    "# Problem 3\n",
    "\n",
    "Consider the initial boundary value problem\n",
    "$$\n",
    "u_{tt} = u_{xx,}\n",
    "$$\n",
    "$$\n",
    "u(0, t) = u(1, t) = 0,\n",
    "$$\n",
    "$$\n",
    "u(x, 0) = .2e^{−m^2(x−1/2)^2}\n",
    "$$\n",
    "$$\n",
    "u_t(x, 0) = 0\n",
    "$$\n",
    "\n",
    "The initial condition separates into two smaller, slower-moving pulses, one travelling to the\n",
    "right and the other to the left. This solution models, for example, a plucked guitar string\n",
    "Numerically approximate the solution u(x, t) for t ∈ [0, 2]. Set m = 20. Use 200 subintervals in space and 440 in time, and animate your results. It is rather easy to see that the\n",
    "solution to this problem is the sum of two travelling waves, one travelling to the left and the\n",
    "other to the right, as described earlier."
   ]
  },
  {
   "cell_type": "code",
   "execution_count": 10,
   "metadata": {},
   "outputs": [],
   "source": [
    "xbounds = [0, 1]\n",
    "tbounds = [0, 2]\n",
    "J = 200 # x steps\n",
    "M = 440 # t steps\n",
    "f = lambda x : 0.2 * np.exp(-400*(x-0.5)**2)\n",
    "g = lambda x : 0\n",
    "\n",
    "# Set up values for computations\n",
    "del_x = (xbounds[1] - xbounds[0]) / J\n",
    "del_t = (tbounds[1] - tbounds[0]) / M\n",
    "s = 1\n",
    "\n",
    "U = finite_diff(f, g, s, xbounds, tbounds, J, M)\n",
    "X = np.linspace(xbounds[0], xbounds[1], J+1)\n",
    "\n",
    "title = \"wavequation3\"\n",
    "animate(X, U, title)"
   ]
  },
  {
   "cell_type": "markdown",
   "metadata": {},
   "source": [
    "<video src=\"wavequation3.mp4\" controls>"
   ]
  },
  {
   "cell_type": "markdown",
   "metadata": {},
   "source": [
    "# Problem 4\n",
    "\n",
    "Consider the initial boundary value problem\n",
    "$$\n",
    "u_{tt} = u_{xx},\n",
    "$$\n",
    "$$\n",
    "u(0, t) = u(1, t) = 0,\n",
    "$$\n",
    "$$ u(0, t)=   \\left\\{\n",
    "\\begin{array}{ll}\n",
    "      \\frac{1}{3} & \\frac{5}{11} < x < \\frac{6}{11} \\\\\n",
    "      0 & otherwise\\\\\n",
    "\\end{array} \n",
    "\\right.  $$ \n",
    "$$\n",
    "u_t(x, 0) = 0\n",
    "$$\n",
    "Numerically approximate the solution u(x, t) for t ∈ [0, 2]. Use 200 subintervals in space\n",
    "and 440 in time, and animate your results. Even though the method is second order and stable\n",
    "for this discretization, since the initial condition is discontinuous there are large dispersive\n",
    "errors. See Figure 7.3."
   ]
  },
  {
   "cell_type": "code",
   "execution_count": 11,
   "metadata": {},
   "outputs": [],
   "source": [
    "xbounds = [0, 1]\n",
    "tbounds = [0, 2]\n",
    "J = 200 # x steps\n",
    "M = 440 # t steps\n",
    "def f(x):\n",
    "    if x > 5/11 and x < 6/11:\n",
    "        return 1/3\n",
    "    return 0\n",
    "g = lambda x : 0\n",
    "\n",
    "# Set up values for computations\n",
    "del_x = (xbounds[1] - xbounds[0]) / J\n",
    "del_t = (tbounds[1] - tbounds[0]) / M\n",
    "s = 1\n",
    "\n",
    "U = finite_diff(f, g, s, xbounds, tbounds, J, M)\n",
    "X = np.linspace(xbounds[0], xbounds[1], J+1)\n",
    "\n",
    "title = \"wavequation4\"\n",
    "animate(X, U, title)"
   ]
  },
  {
   "cell_type": "markdown",
   "metadata": {},
   "source": [
    "<video src=\"wavequation4.mp4\" controls>"
   ]
  },
  {
   "cell_type": "markdown",
   "metadata": {},
   "source": [
    "# Problem 5\n",
    "Numerically solve the initial value problem\n",
    "$$\n",
    "u_t − su_x + uu_x = u_{xx}, \\quad x ∈ (−∞, ∞),\n",
    "$$\n",
    "$$\n",
    "u(x, 0) = v(x),\n",
    "$$\n",
    "\n",
    "for t ∈ [0, 1]. Let the perturbation v(x) be given by\n",
    "$$\n",
    "v(x) = 3.5(sin (3x) + 1) \\frac{1}{2\\pi}exp(-x^2/2)\n",
    "$$\n",
    "And let the initial condition be u(x, 0) = $\\hat{u}$(x) + v(x) Approximate the x domain,(−∞, ∞),\n",
    "numerically by the finite interval [−20, 20], and fix u(−20) = $u_−$, u(20) = $u_+$. Let $u_−$ = 5,\n",
    "$u_+$ = 1. Use 150 intervals in space and 350 steps in time. Animate your results. You should\n",
    "see the solution converge to a translate of the travelling wave $\\hat{u}$. See Figure 7.4.\n",
    "Hint: This difference scheme is no longer a linear equation. We have a nonlinear equation\n",
    "in $U^{n+1}$. We can still solve this function using Newton's method or some other similar solver.\n",
    "In this case, use scipy.optimize.fsolve."
   ]
  },
  {
   "cell_type": "code",
   "execution_count": 122,
   "metadata": {},
   "outputs": [],
   "source": [
    "def finite_diff2(f, xbounds, tbounds, xsteps, tsteps, u_minus, u_plus):\n",
    "    J = xsteps\n",
    "    M = tsteps\n",
    "    # Set up values for computations\n",
    "    del_x = (xbounds[1] - xbounds[0]) / J\n",
    "    del_t = (tbounds[1] - tbounds[0]) / M\n",
    "    K1 = del_t / (4*del_x)\n",
    "    K2 = del_t / (2*del_x**2)\n",
    "    s = (u_minus + u_plus) / 2\n",
    "\n",
    "    #Empty solution matrix\n",
    "    U = np.zeros((M+1,J+1))\n",
    "    # Initial conditions\n",
    "    X = np.linspace(xbounds[0], xbounds[1], J+1)[1:-1]\n",
    "    U[0,1:-1] = [f(x) for x in X]\n",
    "#     U[1,1:-1] = U[0,1:-1] + g(X)*del_t + lamda*2/2*(U[0,:-2]-2*U[0,1:-1]+U[0,2:])\n",
    "\n",
    "    for m in range(M):\n",
    "        U[m+1,:] = fsolve(func, U[m,:], (U[m,:], K1, K2, u_minus, u_plus))\n",
    "        \n",
    "    return U\n",
    "\n",
    "def func(U_, U, K1, K2, u_minus, u_plus):\n",
    "    \"\"\"\n",
    "    Representation of the implicit Crank-Nicolson from lab manual\n",
    "    Where:\n",
    "    U_ = U_n+1\n",
    "    U = U_n\n",
    "    \"\"\"\n",
    "    result = np.zeros_like(U)\n",
    "    RHS = K1*((s - U_[1:-1])*(U_[2:] - U_[:-2]) + (s - U[1:-1])*(U[2:] - U[:-2]))\\\n",
    "        + K2*((U_[2:] - 2*U_[1:-1] + U_[:-2]) + (U[2:] - 2*U[1:-1] + U[:-2]))\n",
    "    result[1:-1] = RHS - U_[1:-1] + U[1:-1]\n",
    "    result[0] = U_[0] - u_minus\n",
    "    result[-1] = U_[-1] - u_plus\n",
    "    \n",
    "    return result\n",
    "\n",
    "def animate(X, U, title):\n",
    "    # turn off display while rendering\n",
    "    plt.ioff()    \n",
    "    n = U.shape[0] \n",
    "    \n",
    "    fig = plt.figure()\n",
    "    ax = fig.add_subplot(111)\n",
    "    ax.set_xlim((-20, 20))\n",
    "    ax.set_ylim((0, 6))    \n",
    "    # create the lines for the heat distribution\n",
    "    solution, = plt.plot([], [], color='b', label='solution')    \n",
    "    def update(i):\n",
    "        # At each frame update the plot\n",
    "        solution.set_data(X, U[i,:])        \n",
    "        return solution    \n",
    "    \n",
    "    # here we plot and animate the plot\n",
    "    plt.legend()\n",
    "    animation.writer = animation.writers['ffmpeg']\n",
    "    plt.title('Animation of Solution to Wave Equation')\n",
    "    ani = animation.FuncAnimation(fig, update, frames=range(n), interval=100)\n",
    "    ani.save(f'{title}.mp4')\n",
    "    plt.ion()\n",
    "    plt.close()"
   ]
  },
  {
   "cell_type": "code",
   "execution_count": 123,
   "metadata": {},
   "outputs": [],
   "source": [
    "xbounds = [-20, 20]\n",
    "tbounds = [0, 1]\n",
    "J = 150 # x steps\n",
    "M = 350 # t steps\n",
    "u_minus = 5\n",
    "u_plus = 1\n",
    "nu = 1\n",
    "delta = 0\n",
    "s = (u_minus + u_plus) / 2\n",
    "a = (u_minus - u_plus) / 2\n",
    "u = lambda x : s - a * np.tanh(a*x/(2*nu)+delta)\n",
    "v = lambda x : 3.5 * (np.sin(3*x)+1)*np.exp(-x**2/2)*(1/np.sqrt(np.pi*2))\n",
    "f = lambda x : u(x) + v(x)\n",
    "\n",
    "# Set up values for computations\n",
    "del_x = (x1 - x0) / J\n",
    "del_t = (t1 - t0) / M\n",
    "\n",
    "\n",
    "U = finite_diff2(f, xbounds, tbounds, J, M, u_minus, u_plus)\n",
    "X = np.linspace(xbounds[0], xbounds[1], J+1)\n",
    "\n",
    "title = \"wavequation5\"\n",
    "animate(X, U, title)"
   ]
  },
  {
   "cell_type": "markdown",
   "metadata": {},
   "source": [
    "<video src=\"wavequation5.mp4\" controls>"
   ]
  },
  {
   "cell_type": "code",
   "execution_count": null,
   "metadata": {},
   "outputs": [],
   "source": []
  }
 ],
 "metadata": {
  "kernelspec": {
   "display_name": "Python 3",
   "language": "python",
   "name": "python3"
  },
  "language_info": {
   "codemirror_mode": {
    "name": "ipython",
    "version": 3
   },
   "file_extension": ".py",
   "mimetype": "text/x-python",
   "name": "python",
   "nbconvert_exporter": "python",
   "pygments_lexer": "ipython3",
   "version": "3.7.3"
  }
 },
 "nbformat": 4,
 "nbformat_minor": 2
}
