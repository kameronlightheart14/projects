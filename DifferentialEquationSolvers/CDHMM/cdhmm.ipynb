{
 "cells": [
  {
   "cell_type": "code",
   "execution_count": 2,
   "metadata": {},
   "outputs": [
    {
     "ename": "ImportError",
     "evalue": "cannot import name 'logsumexp' from 'sklearn.utils.extmath' (C:\\Anaconda3\\lib\\site-packages\\sklearn\\utils\\extmath.py)",
     "output_type": "error",
     "traceback": [
      "\u001b[1;31m---------------------------------------------------------------------------\u001b[0m",
      "\u001b[1;31mImportError\u001b[0m                               Traceback (most recent call last)",
      "\u001b[1;32m<ipython-input-2-3950f9815e6d>\u001b[0m in \u001b[0;36m<module>\u001b[1;34m\u001b[0m\n\u001b[0;32m      6\u001b[0m \u001b[1;32mfrom\u001b[0m \u001b[0msklearn\u001b[0m\u001b[1;33m.\u001b[0m\u001b[0mmodel_selection\u001b[0m \u001b[1;32mimport\u001b[0m \u001b[0mtrain_test_split\u001b[0m\u001b[1;33m\u001b[0m\u001b[1;33m\u001b[0m\u001b[0m\n\u001b[0;32m      7\u001b[0m \u001b[1;32mimport\u001b[0m \u001b[0mpickle\u001b[0m\u001b[1;33m\u001b[0m\u001b[1;33m\u001b[0m\u001b[0m\n\u001b[1;32m----> 8\u001b[1;33m \u001b[1;32mimport\u001b[0m \u001b[0mgmmhmm\u001b[0m\u001b[1;33m\u001b[0m\u001b[1;33m\u001b[0m\u001b[0m\n\u001b[0m",
      "\u001b[1;32m~\\Desktop\\vol4\\CDHMM\\gmmhmm.py\u001b[0m in \u001b[0;36m<module>\u001b[1;34m\u001b[0m\n\u001b[0;32m     11\u001b[0m \u001b[1;32mfrom\u001b[0m \u001b[0msklearn\u001b[0m\u001b[1;33m.\u001b[0m\u001b[0mutils\u001b[0m \u001b[1;32mimport\u001b[0m \u001b[0mcheck_random_state\u001b[0m\u001b[1;33m\u001b[0m\u001b[1;33m\u001b[0m\u001b[0m\n\u001b[0;32m     12\u001b[0m \u001b[1;32mfrom\u001b[0m \u001b[0msklearn\u001b[0m\u001b[1;33m.\u001b[0m\u001b[0mbase\u001b[0m \u001b[1;32mimport\u001b[0m \u001b[0mBaseEstimator\u001b[0m\u001b[1;33m\u001b[0m\u001b[1;33m\u001b[0m\u001b[0m\n\u001b[1;32m---> 13\u001b[1;33m from gmm import (GMM, lmvnpdf, normalize, sample_gaussian,\n\u001b[0m\u001b[0;32m     14\u001b[0m                  _distribute_covar_matrix_to_match_cvtype, _validate_covars)\n\u001b[0;32m     15\u001b[0m \u001b[1;32mimport\u001b[0m \u001b[0mwarnings\u001b[0m\u001b[1;33m\u001b[0m\u001b[1;33m\u001b[0m\u001b[0m\n",
      "\u001b[1;32m~\\Desktop\\vol4\\CDHMM\\gmm.py\u001b[0m in \u001b[0;36m<module>\u001b[1;34m\u001b[0m\n\u001b[0;32m     11\u001b[0m \u001b[1;32mfrom\u001b[0m \u001b[0msklearn\u001b[0m\u001b[1;33m.\u001b[0m\u001b[0mbase\u001b[0m \u001b[1;32mimport\u001b[0m \u001b[0mBaseEstimator\u001b[0m\u001b[1;33m\u001b[0m\u001b[1;33m\u001b[0m\u001b[0m\n\u001b[0;32m     12\u001b[0m \u001b[1;32mfrom\u001b[0m \u001b[0msklearn\u001b[0m\u001b[1;33m.\u001b[0m\u001b[0mutils\u001b[0m \u001b[1;32mimport\u001b[0m \u001b[0mcheck_random_state\u001b[0m\u001b[1;33m\u001b[0m\u001b[1;33m\u001b[0m\u001b[0m\n\u001b[1;32m---> 13\u001b[1;33m \u001b[1;32mfrom\u001b[0m \u001b[0msklearn\u001b[0m\u001b[1;33m.\u001b[0m\u001b[0mutils\u001b[0m\u001b[1;33m.\u001b[0m\u001b[0mextmath\u001b[0m \u001b[1;32mimport\u001b[0m \u001b[0mlogsumexp\u001b[0m\u001b[1;33m\u001b[0m\u001b[1;33m\u001b[0m\u001b[0m\n\u001b[0m\u001b[0;32m     14\u001b[0m \u001b[1;32mfrom\u001b[0m \u001b[0msklearn\u001b[0m \u001b[1;32mimport\u001b[0m \u001b[0mcluster\u001b[0m\u001b[1;33m\u001b[0m\u001b[1;33m\u001b[0m\u001b[0m\n\u001b[0;32m     15\u001b[0m \u001b[1;33m\u001b[0m\u001b[0m\n",
      "\u001b[1;31mImportError\u001b[0m: cannot import name 'logsumexp' from 'sklearn.utils.extmath' (C:\\Anaconda3\\lib\\site-packages\\sklearn\\utils\\extmath.py)"
     ]
    }
   ],
   "source": [
    "import numpy as np\n",
    "from scipy.io.wavfile import read\n",
    "import re\n",
    "import os\n",
    "import MFCC\n",
    "from sklearn.model_selection import train_test_split\n",
    "import pickle\n",
    "import gmmhmm"
   ]
  },
  {
   "cell_type": "code",
   "execution_count": null,
   "metadata": {},
   "outputs": [],
   "source": []
  },
  {
   "cell_type": "markdown",
   "metadata": {},
   "source": [
    "## Problem 1\n",
    "\n",
    "Write a function which accepts a GMMHMM in the format above as well as an integer n_sim, and which simulates the GMMHMM process, generating n_sim different observations. Do so by implementing the following function declaration. "
   ]
  },
  {
   "cell_type": "code",
   "execution_count": 57,
   "metadata": {},
   "outputs": [],
   "source": [
    "def sample_gmmhmm(gmmhmm, n_sim, K=3):\n",
    "    \"\"\"\n",
    "    Simulate sampling from a GMMHMM.\n",
    "\n",
    "    Returns\n",
    "    -------\n",
    "    states : ndarray of shape (n_sim,)\n",
    "        The sequence of states\n",
    "    obs : ndarray of shape (n_sim, K)\n",
    "        The generated observations (column vectors of length K)\n",
    "    \"\"\"\n",
    "    states = []\n",
    "    obs = []\n",
    "    \n",
    "    states.append(np.choice(np.arange(len(gmmhmm[1]))))\n",
    "    \n",
    "    for i in range(len(gmmhmm[0])):\n",
    "        state_index = \n",
    "        sample_component = np.argmax(np.random.multinomial(1, weights[i,:]))\n",
    "        obs.append(np.random.multivariate_normal(means[1, sample_component, :], covars[1, sample_component, :, :], size=n_sim))\n",
    "\n",
    "    return states, obs"
   ]
  },
  {
   "cell_type": "code",
   "execution_count": 90,
   "metadata": {},
   "outputs": [
    {
     "data": {
      "text/plain": [
       "array([[[ -1.8450434 ,   5.7009968 ,  24.43413469],\n",
       "        [ -2.76480275,  -0.82394218,  23.29464013]],\n",
       "\n",
       "       [[ -9.17916328,   7.76791906,  24.37735337],\n",
       "        [ -1.91638941,  -1.76444104,  19.39342479]],\n",
       "\n",
       "       [[ 10.56532962, -30.47162504,  -1.12894249],\n",
       "        [ 14.54477878, -29.27939992,  -1.32846158]],\n",
       "\n",
       "       [[ 14.13692134, -34.06077811,   0.79578395],\n",
       "        [ 14.33210332, -32.42904506,   1.2724842 ]]])"
      ]
     },
     "execution_count": 90,
     "metadata": {},
     "output_type": "execute_result"
    }
   ],
   "source": [
    "A = np.array([[.65, .35], [.15, .85]])\n",
    "pi = np.array([.8, .2])\n",
    "weights = np.array([[.7, .2, .1], [.1, .5, .4]])\n",
    "means1 = np.array([[0., 17., -4.], [5., -12., -8.], [-16., 22., 2.]])\n",
    "means2 = np.array([[-5., 3., 23.], [-12., -2., 14.], [15., -32., 0.]])\n",
    "means = np.array([means1, means2])\n",
    "covars1 = np.array([5*np.eye(3), 7*np.eye(3), np.eye(3)])\n",
    "covars2 = np.array([10*np.eye(3), 3*np.eye(3), 4*np.eye(3)])\n",
    "covars = np.array([covars1, covars2])\n",
    "gmmhmm1 = [A, weights, means, covars, pi]\n",
    "\n",
    "sample_gmmhmm(gmmhmm1, 4)"
   ]
  },
  {
   "cell_type": "markdown",
   "metadata": {},
   "source": [
    "## Problem 2 \n",
    "\n",
    "Obtain 30 (or more) recordings for each of the words/phrases mathematics, biology,\n",
    "political science, psychology, and statistics. These audio samples should be 2 seconds in\n",
    "duration, recorded at a rate of 44100 samples per second, with samples stored as 16-bit signed\n",
    "integers in WAV format. Load the recordings into Python using scipy.io.wavfile.read."
   ]
  },
  {
   "cell_type": "code",
   "execution_count": 72,
   "metadata": {},
   "outputs": [],
   "source": [
    "bio_samples = []\n",
    "math_samples = []\n",
    "poly_sci_samples = []\n",
    "stats_samples = []\n",
    "for i in range(1, 31):\n",
    "    bio_samples.append(read(\"Samples/Biology ({}).wav\".format(i))[1])\n",
    "    math_samples.append(read(\"Samples/Mathematics ({}).wav\".format(i))[1])\n",
    "    poly_sci_samples.append(read(\"Samples/PoliticalScience ({}).wav\".format(i))[1])\n",
    "    stats_samples.append(read(\"Samples/Statistics ({}).wav\".format(i))[1])"
   ]
  },
  {
   "cell_type": "code",
   "execution_count": 87,
   "metadata": {},
   "outputs": [
    {
     "name": "stdout",
     "output_type": "stream",
     "text": [
      "(88200,)\n"
     ]
    }
   ],
   "source": [
    "print(math_samples[0].shape)"
   ]
  },
  {
   "cell_type": "markdown",
   "metadata": {},
   "source": [
    "## Problem 3\n",
    "\n",
    "Partition each list of MFCCs into a training set of 20 samples, and a test set of\n",
    "the remaining 10 samples.\n",
    "\n",
    "Using the training sets, train a GMMHMM on each of the words from the previous problem\n",
    "with at least 10 random restarts, keeping the best model for each word (the one with the highest\n",
    "log-likelihood). This process may take several minutes. Since you will not want to run this\n",
    "more than once, you will want to save the best model for each word to disk using the pickle\n",
    "module so that you can use it later."
   ]
  },
  {
   "cell_type": "code",
   "execution_count": 81,
   "metadata": {},
   "outputs": [],
   "source": [
    "bio_train, bio_test = train_test_split(bio_samples, train_size=20, test_size=10)\n",
    "math_train, math_test = train_test_split(math_samples, train_size=20, test_size=10)\n",
    "poly_sci_train, poly_sci_test = train_test_split(poly_sci_samples, train_size=20, test_size=10)\n",
    "stats_train, stats_test = train_test_split(stats_samples, train_size=20, test_size=10)"
   ]
  },
  {
   "cell_type": "code",
   "execution_count": 91,
   "metadata": {},
   "outputs": [],
   "source": [
    "def initialize(n):\n",
    "    \"\"\"\n",
    "    takes in number of states and creates random \n",
    "    initial state distribution and transition matrix\n",
    "    \n",
    "    inputs:\n",
    "        n: number of states\n",
    "        \n",
    "    outputs:\n",
    "        startprob: initial state distribution\n",
    "        transmat: transition matrix\n",
    "    \"\"\"\n",
    "    # create initial state distribution\n",
    "    startprob = np.random.rand(n)\n",
    "    startprob /= np.sum(startprob)\n",
    "    \n",
    "    # create transition matrix\n",
    "    transmat = np.random.rand(n,n)\n",
    "    transmat = (transmat.T/np.sum(transmat, axis=1)).T\n",
    "    \n",
    "    # return results\n",
    "    return startprob, transmat"
   ]
  },
  {
   "cell_type": "code",
   "execution_count": 93,
   "metadata": {},
   "outputs": [
    {
     "ename": "AttributeError",
     "evalue": "'list' object has no attribute 'GMMHMM'",
     "output_type": "error",
     "traceback": [
      "\u001b[1;31m---------------------------------------------------------------------------\u001b[0m",
      "\u001b[1;31mAttributeError\u001b[0m                            Traceback (most recent call last)",
      "\u001b[1;32m<ipython-input-93-a601e113d9af>\u001b[0m in \u001b[0;36m<module>\u001b[1;34m\u001b[0m\n\u001b[0;32m      1\u001b[0m \u001b[0mstartprob\u001b[0m\u001b[1;33m,\u001b[0m \u001b[0mtransmat\u001b[0m \u001b[1;33m=\u001b[0m \u001b[0minitialize\u001b[0m\u001b[1;33m(\u001b[0m\u001b[1;36m5\u001b[0m\u001b[1;33m)\u001b[0m\u001b[1;33m\u001b[0m\u001b[1;33m\u001b[0m\u001b[0m\n\u001b[1;32m----> 2\u001b[1;33m \u001b[0mmodel\u001b[0m \u001b[1;33m=\u001b[0m \u001b[0mgmmhmm\u001b[0m\u001b[1;33m.\u001b[0m\u001b[0mGMMHMM\u001b[0m\u001b[1;33m(\u001b[0m\u001b[0mn_components\u001b[0m\u001b[1;33m=\u001b[0m\u001b[1;36m5\u001b[0m\u001b[1;33m,\u001b[0m \u001b[0mn_mix\u001b[0m\u001b[1;33m=\u001b[0m\u001b[1;36m3\u001b[0m\u001b[1;33m,\u001b[0m \u001b[0mtransmat\u001b[0m\u001b[1;33m=\u001b[0m\u001b[0mtransmat\u001b[0m\u001b[1;33m,\u001b[0m \u001b[0mstartprob\u001b[0m\u001b[1;33m=\u001b[0m\u001b[0mstartprob\u001b[0m\u001b[1;33m,\u001b[0m \u001b[0mcvtype\u001b[0m\u001b[1;33m=\u001b[0m\u001b[1;34m'diag'\u001b[0m\u001b[1;33m)\u001b[0m\u001b[1;33m\u001b[0m\u001b[1;33m\u001b[0m\u001b[0m\n\u001b[0m\u001b[0;32m      3\u001b[0m \u001b[1;31m# these values for covars_prior and var should work well for this problem\u001b[0m\u001b[1;33m\u001b[0m\u001b[1;33m\u001b[0m\u001b[1;33m\u001b[0m\u001b[0m\n\u001b[0;32m      4\u001b[0m \u001b[0mmodel\u001b[0m\u001b[1;33m.\u001b[0m\u001b[0mcovars_prior\u001b[0m \u001b[1;33m=\u001b[0m \u001b[1;36m0.01\u001b[0m\u001b[1;33m\u001b[0m\u001b[1;33m\u001b[0m\u001b[0m\n\u001b[0;32m      5\u001b[0m \u001b[0mmodel\u001b[0m\u001b[1;33m.\u001b[0m\u001b[0mfit\u001b[0m\u001b[1;33m(\u001b[0m\u001b[0mbio_train\u001b[0m\u001b[1;33m,\u001b[0m \u001b[0minit_params\u001b[0m\u001b[1;33m=\u001b[0m\u001b[1;34m'mc'\u001b[0m\u001b[1;33m,\u001b[0m \u001b[0mvar\u001b[0m\u001b[1;33m=\u001b[0m\u001b[1;36m0.1\u001b[0m\u001b[1;33m)\u001b[0m\u001b[1;33m\u001b[0m\u001b[1;33m\u001b[0m\u001b[0m\n",
      "\u001b[1;31mAttributeError\u001b[0m: 'list' object has no attribute 'GMMHMM'"
     ]
    }
   ],
   "source": [
    "startprob, transmat = initialize(5)\n",
    "model = gmmhmm.GMMHMM(n_components=5, n_mix=3, transmat=transmat, startprob=startprob, cvtype='diag')\n",
    "# these values for covars_prior and var should work well for this problem\n",
    "model.covars_prior = 0.01\n",
    "model.fit(bio_train, init_params='mc', var=0.1)\n",
    "print(model.logprob)"
   ]
  },
  {
   "cell_type": "markdown",
   "metadata": {},
   "source": [
    "## Problem 4\n",
    "\n",
    "Classify the 10 test samples for each word. How does your system perform?\n",
    "Which words are the hardest to correctly classify? Make a dictionary containing the accuracy\n",
    "of the classification of your five testing sets. Specifically, the words/phrases will be the keys,\n",
    "and the values will be the percent accuracy."
   ]
  },
  {
   "cell_type": "code",
   "execution_count": null,
   "metadata": {
    "scrolled": true
   },
   "outputs": [],
   "source": []
  },
  {
   "cell_type": "code",
   "execution_count": null,
   "metadata": {},
   "outputs": [],
   "source": []
  },
  {
   "cell_type": "markdown",
   "metadata": {},
   "source": [
    "These are very positive results! Biology had the worst results and after looking closer it appears biology was misclassified as psychology three times, causing the lower accuracy. This is not too surprising since the two words have some similarities. Psychology was the only other word to not have perfect accuracy and was misclassified as biology once, again this is not surprising escpecially since biology was classified as psychology. The rest had perfect scores! Very cool. "
   ]
  },
  {
   "cell_type": "code",
   "execution_count": null,
   "metadata": {
    "collapsed": true
   },
   "outputs": [],
   "source": []
  },
  {
   "cell_type": "code",
   "execution_count": null,
   "metadata": {},
   "outputs": [],
   "source": []
  }
 ],
 "metadata": {
  "kernelspec": {
   "display_name": "Python 3",
   "language": "python",
   "name": "python3"
  },
  "language_info": {
   "codemirror_mode": {
    "name": "ipython",
    "version": 3
   },
   "file_extension": ".py",
   "mimetype": "text/x-python",
   "name": "python",
   "nbconvert_exporter": "python",
   "pygments_lexer": "ipython3",
   "version": "3.7.3"
  }
 },
 "nbformat": 4,
 "nbformat_minor": 2
}
