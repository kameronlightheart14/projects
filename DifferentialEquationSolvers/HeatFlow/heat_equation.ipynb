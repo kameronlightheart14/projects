{
 "cells": [
  {
   "cell_type": "code",
   "execution_count": 3,
   "metadata": {},
   "outputs": [],
   "source": [
    "import numpy as np\n",
    "import matplotlib.pyplot as plt\n",
    "import scipy.linalg as la\n",
    "import matplotlib.animation as animation"
   ]
  },
  {
   "cell_type": "code",
   "execution_count": 4,
   "metadata": {},
   "outputs": [],
   "source": [
    "%matplotlib inline"
   ]
  },
  {
   "cell_type": "code",
   "execution_count": 5,
   "metadata": {},
   "outputs": [],
   "source": [
    "def forward_diff(U_0, h, k, m, v):\n",
    "    \"\"\"\n",
    "    U0 (ndarray): initial condition u(0,x)\n",
    "    h (float): x finite difference\n",
    "    k (float): finite time difference\n",
    "    m (int): num time steps\n",
    "    v (float): constant from the diff equation\n",
    "    \"\"\"\n",
    "    # get the num of x steps\n",
    "    n = len(U_0)\n",
    "    \n",
    "    # initialize the U matrix and lambda\n",
    "    U = np.zeros((m,n))\n",
    "    U[0,:] = U_0\n",
    "    U[:,0] = U_0[0]\n",
    "    U[:,-1] = U_0[-1]\n",
    "    lamda = v*k / h**2\n",
    "    \n",
    "    # Use formula to get each time step\n",
    "    for j in range(0,m-1):\n",
    "        # U[j+1,i] = U[j, i] + lambda(U[j,i+1] -2U[j,i] + U[j, i-1])\n",
    "        U[j+1,1:-1] =  lamda*U[j,0:-2] + (1-2*lamda)*U[j,1:-1] + lamda*U[j,2:]\n",
    "    return U"
   ]
  },
  {
   "cell_type": "markdown",
   "metadata": {},
   "source": [
    "# Problem 1\n",
    "\n",
    "Consider the initial/boundary value problem\n",
    "\n",
    "\\begin{align}\n",
    "\t\\begin{split}\n",
    "\t&{ } u_t = .05 u_{xx}, \\quad x \\in [0,1], \\quad t \\in [0,1]\\\\\n",
    "\t&{ } u(0,t) = 0,\\quad u(1,t) = 0,\\\\\n",
    "\t&{ } u(x,0) = 2\\max\\{.2 - |x-.5|,0\\}.\n",
    "\t\\end{split}\n",
    "\\end{align}\n",
    "\n",
    "Approximate the solution $u(x,t)$ at time $t = .4$ by taking 6 subintervals in the $x$ dimension and 10 subintervals in time."
   ]
  },
  {
   "cell_type": "code",
   "execution_count": 6,
   "metadata": {},
   "outputs": [],
   "source": [
    "def animate(X, U, title):\n",
    "    # turn off display while rendering\n",
    "    plt.ioff()    \n",
    "    n = U.shape[0] \n",
    "    \n",
    "    fig = plt.figure()\n",
    "    ax = fig.add_subplot(111)\n",
    "    ax.set_xlim((-12, 12))\n",
    "    ax.set_ylim((-.1, 1))    \n",
    "    # create the lines for the heat distribution\n",
    "    solution, = plt.plot([], [], color='b', label='solution')    \n",
    "    def update(i):\n",
    "        # At each frame update the plot\n",
    "        solution.set_data(X, U[i,:])        \n",
    "        return solution    \n",
    "    \n",
    "    # here we plot and animate the plot\n",
    "    plt.legend()\n",
    "    animation.writer = animation.writers['ffmpeg']\n",
    "    plt.title('Animation of solutions to the Heat Equation')\n",
    "    ani = animation.FuncAnimation(fig, update, frames=range(n), interval=100)\n",
    "    ani.save(f'{title}.mp4')\n",
    "    plt.ion()\n",
    "    plt.close()"
   ]
  },
  {
   "cell_type": "code",
   "execution_count": 7,
   "metadata": {},
   "outputs": [
    {
     "data": {
      "text/plain": [
       "(-0.1, 0.5)"
      ]
     },
     "execution_count": 7,
     "metadata": {},
     "output_type": "execute_result"
    },
    {
     "data": {
      "image/png": "[encoded data removed]",
      "text/plain": [
       "<Figure size 432x288 with 1 Axes>"
      ]
     },
     "metadata": {},
     "output_type": "display_data"
    }
   ],
   "source": [
    "# initialize the parameters\n",
    "x0, x1 = 0, 1\n",
    "t0, t1 = 0 ,1\n",
    "v = 0.05\n",
    "n = 6\n",
    "m = 10\n",
    "h = (x1 - x0) / n\n",
    "k = (t1 - t0) / m\n",
    "# A = generate_A(k, h, v)\n",
    "\n",
    "# Initial conditions\n",
    "U_0 = [2 * max(0.2 - np.abs(x - 0.5), 0) for x in np.linspace(0, 1, 7)]\n",
    "\n",
    "U = forward_diff(U_0, h, k, m, v)\n",
    "\n",
    "plt.plot(np.linspace(0, 1, 7), U[4, :], \"o-\")\n",
    "plt.ylim((-0.1, 0.5))"
   ]
  },
  {
   "cell_type": "markdown",
   "metadata": {},
   "source": [
    "# Problem 2\n",
    "\n",
    "Solve the initial/boundary value problem\n",
    "\n",
    "\\begin{align}\n",
    "\t\\begin{split}\n",
    "\t&{ } u_t = u_{xx}, \\quad x \\in [-12,12],\\quad t \\in [0,1], \\\\\n",
    "\t&{ } u(-12,t) = 0,\\quad u(12,t) = 0,\\\\\n",
    "\t&{ } u(x,0) = \\max\\{1 - x^2,0\\}\n",
    "\t\\end{split}\n",
    "\\end{align}\n",
    "\n",
    "using the first order explicit method (1.1).\n",
    "Use 140 subintervals in the $x$ dimension and 70 subintervals in time.\n",
    "The initial and final states are shown in Figures 1 and 2.\n",
    "Animate your results.\n",
    "\n",
    "Explicit methods usually have a stability condition, called a CFL condition (for Courant-Friedrichs-Lewy).\n",
    "For method (1.1) the CFL condition that must be satisfied is that:\n",
    "\n",
    "$$\\lambda \\leq \\frac{1}{2}$$\n",
    "\n",
    "Repeat your computations using 140 subintervals in the $x$ dimension and 66 subintervals in time. Animate the results.\n",
    "For these values the CFL condition is broken; you should easily see the result of this instability in the approximation $U^{66}$.\n"
   ]
  },
  {
   "cell_type": "code",
   "execution_count": 8,
   "metadata": {
    "scrolled": true
   },
   "outputs": [
    {
     "data": {
      "text/plain": [
       "[<matplotlib.lines.Line2D at 0x7f8bba5cebe0>]"
      ]
     },
     "execution_count": 8,
     "metadata": {},
     "output_type": "execute_result"
    },
    {
     "data": {
      "image/png": "[encoded data removed]",
      "text/plain": [
       "<Figure size 432x288 with 1 Axes>"
      ]
     },
     "metadata": {},
     "output_type": "display_data"
    }
   ],
   "source": [
    "# Set up initial conditions\n",
    "x0, x1 = -12, 12\n",
    "t0, t1 = 0 ,1\n",
    "v = 1\n",
    "n = 140\n",
    "m = 70\n",
    "h = (x1 - x0) / n\n",
    "k = (t1 - t0) / m\n",
    "# A = generate_A(k, h, v)\n",
    "\n",
    "# Initial conditions\n",
    "U_0 = [max(1 - x**2, 0) for x in np.linspace(x0, x1, n+1)]\n",
    "U = forward_diff(U_0, h, k, m, v)\n",
    "\n",
    "title = 'heat_equation1'\n",
    "X = np.linspace(x0, x1, n+1)\n",
    "animate(X, U, title)\n",
    "\n",
    "plt.plot(np.linspace(x0, x1, n+1), U[4, :])"
   ]
  },
  {
   "cell_type": "markdown",
   "metadata": {},
   "source": [
    "`<video src=\"heat_equation1.mp4\" controls>`"
   ]
  },
  {
   "cell_type": "code",
   "execution_count": 9,
   "metadata": {},
   "outputs": [
    {
     "data": {
      "text/plain": [
       "[<matplotlib.lines.Line2D at 0x7f8bba4b4d68>]"
      ]
     },
     "execution_count": 9,
     "metadata": {},
     "output_type": "execute_result"
    },
    {
     "data": {
      "image/png": "[encoded data removed]",
      "text/plain": [
       "<Figure size 432x288 with 1 Axes>"
      ]
     },
     "metadata": {},
     "output_type": "display_data"
    }
   ],
   "source": [
    "# Set up initial conditions\n",
    "x0, x1 = -12, 12\n",
    "t0, t1 = 0 ,1\n",
    "v = 1\n",
    "n = 140\n",
    "m = 66\n",
    "h = (x1 - x0) / n\n",
    "k = (t1 - t0) / m\n",
    "# A = generate_A(k, h, v)\n",
    "\n",
    "# Initial conditions\n",
    "U_0 = [max(1 - x**2, 0) for x in np.linspace(x0, x1, n+1)]\n",
    "U = forward_diff(U_0, h, k, m, v)\n",
    "\n",
    "title = 'heat_equation2'\n",
    "X = np.linspace(x0, x1, n+1)\n",
    "animate(X, U, title)\n",
    "\n",
    "plt.plot(np.linspace(x0, x1, n+1), U[4, :])"
   ]
  },
  {
   "cell_type": "markdown",
   "metadata": {},
   "source": [
    "`<video src=\"heat_equation2.mp4\" controls>`"
   ]
  },
  {
   "cell_type": "markdown",
   "metadata": {},
   "source": [
    "# Problem 3\n",
    "\n",
    "Using the Crank Nicolson method, numerically approximate the solution $u(x,t)$ of the problem\n",
    "\n",
    "\\begin{align}\n",
    "\t\\begin{split}\n",
    "\t&{ } u_t = u_{xx}, \\quad x \\in [-12,12],\\quad t \\in [0,1],\\\\\n",
    "\t&{ } u(-12,t) = 0,\\quad u(12,t) = 0,\\\\\n",
    "\t&{ } u(x,0) = \\max\\{1 - x^2,0\\}.\n",
    "\t\\end{split}\n",
    "\\end{align}\n",
    "\n",
    "Demonstrate that the numerical approximation at $t = 1$ converges to  $u(x,t=1)$.\n",
    "Do this by computing $U$ at $t=1$ using $20,40,80,160,320$, and $640$ steps.\n",
    "Use the same number of steps in both time and space.\n",
    "Reproduce the loglog plot shown in Figure 4.\n",
    "The slope of the line there shows the proper rate of convergence.\n",
    "\n",
    "To measure the error, use the solution with the smallest $h$ (largest number of intervals) as if it were the exact solution, then sample each solution only at the x-values that are represented in the solution with the largest $h$ (smallest number of intervals).\n",
    "Use the $\\infty$-norm on the arrays of values at those points to measure the error.\n",
    "\n",
    "Notice that, since the Crank-Nicolson method is unconditionally stable, there is no CFL condition and we can use the same number of intervals in time and space."
   ]
  },
  {
   "cell_type": "code",
   "execution_count": 92,
   "metadata": {},
   "outputs": [],
   "source": [
    "def heat_cn(v,f,xbounds,tbounds,xsteps,tsteps):\n",
    "    \"\"\"Computes the Crank-Nicholson solution to the heat equation initial/boundary\n",
    "    value problem:\n",
    "    \n",
    "        u_t = νu_xx, x∈[x0,x1]\n",
    " t∈[t0,t1]\n",
    "        u(x0,t) = 0, u(x1,t) = 0\n",
    "        u(x,0) = f(x)\n",
    "    \"\"\"\n",
    "    n, m = xsteps, tsteps\n",
    "    h = (xbounds[1] - xbounds[0]) / n\n",
    "    k = (tbounds[1] - tbounds[0]) / m\n",
    "    \n",
    "    # Initialize empty solution matrix\n",
    "    U = np.zeros((n+1,m+1))\n",
    "    \n",
    "    # Initial conditions\n",
    "    U_0 = [f(x) for x in np.linspace(xbounds[0], xbounds[1], n+1)]\n",
    "    U[0] = U_0\n",
    "    U[0,0] = 0\n",
    "    U[0,-1] = 0\n",
    "    lamda = k / (2*h**2)\n",
    "    \n",
    "    # Matricies needed for formula\n",
    "    A = np.zeros((n+1,n+1))\n",
    "    B = np.zeros((n+1,n+1))\n",
    "    A[0,0], A[-1,-1], B[0,0], B[-1,-1] = 1,1,1,1\n",
    "    for i in range(1, n):\n",
    "        A[i,i-1:i+2] = lamda, 1 - 2*lamda, lamda\n",
    "        B[i,i-1:i+2] = -lamda, 1 + 2*lamda, -lamda\n",
    "    \n",
    "    B_inv = np.linalg.inv(B)\n",
    "    \n",
    "    # Solve for each time step solution\n",
    "    for i in range(m):\n",
    "        U[i+1] = B_inv @ A @ U[i]\n",
    "        \n",
    "    return U"
   ]
  },
  {
   "cell_type": "code",
   "execution_count": 91,
   "metadata": {},
   "outputs": [
    {
     "data": {
      "text/plain": [
       "[<matplotlib.lines.Line2D at 0x7f8bb8028438>]"
      ]
     },
     "execution_count": 91,
     "metadata": {},
     "output_type": "execute_result"
    },
    {
     "data": {
      "image/png": "[encoded data removed]",
      "text/plain": [
       "<Figure size 432x288 with 1 Axes>"
      ]
     },
     "metadata": {},
     "output_type": "display_data"
    }
   ],
   "source": [
    "f = lambda x : max(1 - x**2, 0)\n",
    "U = heat_cn(1, f, [-12, 12], [0, 1], 20, 20)\n",
    "plt.plot(np.linspace(-12, 12, 21), U[0,:])\n",
    "plt.plot(np.linspace(-12, 12, 21), U[1,:])\n",
    "\n",
    "# initialize the parameters\n",
    "v = 1\n",
    "x0 = -12\n",
    "x1 = 12\n",
    "t0 = 0\n",
    "t1 = 1\n",
    "tsteps = np.logspace(1,6,6, base=2).astype(int)*10\n",
    "xsteps = np.logspace(1,6,6, base=2).astype(int)*10\n",
    "\n",
    "# make the initial condition function\n",
    "def f(x):\n",
    "    return max(1 - x**2, 0)\n",
    "\n",
    "# store each solution for different values of t and x steps\n",
    "sols = np.array([None]*len(tsteps))\n",
    "for i in range(len(tsteps)):\n",
    "    sols[i] = heat_cn(v, f, (x0,x1), (t0,t1), xsteps[i], tsteps[i])\n",
    "    \n",
    "plt.plot(np.linspace(-12, 12, 21), sols[0][0,:])"
   ]
  },
  {
   "cell_type": "code",
   "execution_count": 96,
   "metadata": {},
   "outputs": [
    {
     "data": {
      "image/png": "[encoded data removed]",
      "text/plain": [
       "<Figure size 432x288 with 1 Axes>"
      ]
     },
     "metadata": {},
     "output_type": "display_data"
    }
   ],
   "source": [
    "# \"exact\" solution as a baseline\n",
    "exact = sols[-1][-1]\n",
    "\n",
    "# store and extract the t=1 solutions\n",
    "t1_sols = np.array([None]*len(tsteps))\n",
    "for i, sol in enumerate(sols):\n",
    "    t1_sols[i] = sol[-1]\n",
    "\n",
    "# compute errors\n",
    "error = np.zeros_like(t1_sols)\n",
    "errors = np.zeros(len(tsteps))\n",
    "for i in range(len(tsteps)):\n",
    "    error[i] = exact[::2**(5-i)] - t1_sols[i]\n",
    "for i, err in enumerate(error):\n",
    "    errors[i] = np.linalg.norm(err, np.inf)\n",
    "    \n",
    "# plot the errors\n",
    "h_vals = np.array([24 / i for i in xsteps])\n",
    "plt.loglog(h_vals[:-1], errors[:-1], '-ok', label='error')\n",
    "plt.xlim((10e-3,10))\n",
    "plt.ylim((10e-5,10))\n",
    "plt.loglog(h_vals[:-1], np.multiply(h_vals[:-1],h_vals[:-1]), 'r', label='h**2')\n",
    "plt.legend()\n",
    "plt.title('Convergenge of the Crank-Nicholson method')\n",
    "plt.xlabel(\"h\")\n",
    "plt.show()"
   ]
  },
  {
   "cell_type": "code",
   "execution_count": null,
   "metadata": {},
   "outputs": [],
   "source": []
  }
 ],
 "metadata": {
  "kernelspec": {
   "display_name": "Python 3",
   "language": "python",
   "name": "python3"
  },
  "language_info": {
   "codemirror_mode": {
    "name": "ipython",
    "version": 3
   },
   "file_extension": ".py",
   "mimetype": "text/x-python",
   "name": "python",
   "nbconvert_exporter": "python",
   "pygments_lexer": "ipython3",
   "version": "3.6.6"
  }
 },
 "nbformat": 4,
 "nbformat_minor": 2
}
