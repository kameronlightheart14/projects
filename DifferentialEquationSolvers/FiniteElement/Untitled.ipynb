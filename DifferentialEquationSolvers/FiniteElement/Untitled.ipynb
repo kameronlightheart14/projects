{
 "cells": [
  {
   "cell_type": "code",
   "execution_count": 3,
   "metadata": {},
   "outputs": [],
   "source": [
    "import numpy as np\n",
    "from scipy.linalg import solve_banded"
   ]
  },
  {
   "cell_type": "code",
   "execution_count": 23,
   "metadata": {},
   "outputs": [],
   "source": [
    "def a(i, j, epsilon, x0, x1, x2):\n",
    "    \"\"\"\n",
    "    Paramaters:\n",
    "        i (int): index of phi function\n",
    "        j (int): index of phi function\n",
    "        epsilon (float): constant\n",
    "        interval (tuple): (x0, x1, x3) partition x values\n",
    "    Returns:\n",
    "        result (float): evaluation of function \n",
    "    \"\"\"\n",
    "    interval = (x0, x1, x2)\n",
    "    h_i = interval[1] - interval[0]\n",
    "    h_i_1 = interval[2] - interval[1]\n",
    "    if j == i+1:\n",
    "        return epsilon/h_i_1 + 1/2\n",
    "    elif i == j:\n",
    "        return -epsilon/h_i - epsilon/h_i_1\n",
    "    elif j == i-1:\n",
    "        return epsilon/h_i - 1/2\n",
    "    else:\n",
    "        return 0\n",
    "    \n",
    "def l(j, x0, x1, x2):\n",
    "    \"\"\"\n",
    "    Parameters:\n",
    "        j (int): index of phi function\n",
    "        interval (tuple): (x0, x1, x3) partition x values \n",
    "    Returns:\n",
    "        result (float): value of l function\n",
    "    \"\"\"\n",
    "    interval = (x0, x1, x2)\n",
    "    h_j = interval[1] - interval[0]\n",
    "    h_j_1 = interval[2] - interval[1]\n",
    "    return -1/2*(h_j + h_j_1)\n",
    "\n",
    "l = np.vectorize(l)\n",
    "a = np.vectorize(a)"
   ]
  },
  {
   "cell_type": "code",
   "execution_count": 91,
   "metadata": {},
   "outputs": [],
   "source": [
    "def finite_element(epsilon, alpha, beta, xmin, xmax, N):\n",
    "    \"\"\"\n",
    "    Parameters:\n",
    "        epsilon (float): constant\n",
    "        alpha (float): y(xmin) = alpha\n",
    "        beta (float): y(xmax) = beta\n",
    "        xmax (float): upper bound for x\n",
    "        xmin (float): lower bound for x\n",
    "        N (int): number of intervals (N+1 total points)\n",
    "    \"\"\"\n",
    "    # Number of non-zero lower and upper diagonals for solved_banded function\n",
    "    u_ = 1\n",
    "    l_ = 1\n",
    "    \n",
    "    xs = np.linspace(xmin, xmax, N+1)\n",
    "    dx = (xmax - xmin) / N\n",
    "    intervals = [(x - dx, x, x + dx) for x in xs]\n",
    "\n",
    "#     tuple1 = [(i+2, interval) for i,interval in enumerate(intervals[2:N+1])]\n",
    "#     tuple2 = [(i+1, interval) for i,interval in enumerate(intervals[1:N+1])]\n",
    "#     tuple3 = [(i, interval) for i,interval in enumerate(intervals[0:N-1])]\n",
    "    \n",
    "    # Construct ab matrix for solve_banded function see documentation for details\n",
    "    row1 = np.concatenate((np.array([0]), np.array([0]), np.array([a(i+2, i+1, epsilon, *interval) for i, interval in enumerate(intervals[2:N+1])])))\n",
    "    row2 = np.concatenate((np.array([1]), np.array([a(i+1, i+1, epsilon, *interval) for i, interval in enumerate(intervals[1:N])]), np.array([1])))\n",
    "    row3 = np.concatenate((np.array([a(i, i+1, epsilon, *interval) for i, interval in enumerate(intervals[:N-1])]), np.array([0]), (np.array([0]))))\n",
    "    \n",
    "#     print(row1.shape, row2.shape, row3.shape)\n",
    "    \n",
    "    ab = np.vstack((row1, row2, row3))\n",
    "    \n",
    "    # Set up b array and empty solution vector\n",
    "    b = np.array([l(j, interval[0], interval[1], interval[2]) for j, interval in enumerate(intervals[1:N])])\n",
    "    b = np.concatenate((np.array([alpha]), b, np.array([beta])))\n",
    "    sol = np.zeros(N+1)\n",
    "    \n",
    "#     print(ab.shape, b.shape)\n",
    "#     print(u_, l_)\n",
    "#     print(ab, b)\n",
    "    \n",
    "    # Solve banded function will now solve our ax = b problem\n",
    "    sol = solve_banded((l_,u_), ab, b)\n",
    "    \n",
    "    return sol\n",
    "    "
   ]
  },
  {
   "cell_type": "code",
   "execution_count": 99,
   "metadata": {},
   "outputs": [
    {
     "name": "stdout",
     "output_type": "stream",
     "text": [
      "True\n"
     ]
    }
   ],
   "source": [
    "alpha, beta, epsilon, N = 2, 4, 0.02, 100\n",
    "\n",
    "y = lambda x : alpha + x + (beta - alpha - 1) * (np.exp(x/epsilon)) / (np.exp(1/epsilon) - 1)\n",
    "\n",
    "print(np.allclose(finite_element(epsilon, alpha, beta, xmin, xmax, N), y(np.linspace(0, 1, 101)), atol=0.01))"
   ]
  },
  {
   "cell_type": "code",
   "execution_count": null,
   "metadata": {},
   "outputs": [],
   "source": []
  }
 ],
 "metadata": {
  "kernelspec": {
   "display_name": "Python 3",
   "language": "python",
   "name": "python3"
  },
  "language_info": {
   "codemirror_mode": {
    "name": "ipython",
    "version": 3
   },
   "file_extension": ".py",
   "mimetype": "text/x-python",
   "name": "python",
   "nbconvert_exporter": "python",
   "pygments_lexer": "ipython3",
   "version": "3.7.3"
  }
 },
 "nbformat": 4,
 "nbformat_minor": 2
}
