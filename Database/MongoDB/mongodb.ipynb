{
 "cells": [
  {
   "cell_type": "markdown",
   "metadata": {},
   "source": [
    "# Volume 3: MongoDB.\n",
    "    Kameron Lightheart\n",
    "    MATH 405\n",
    "    1/7/2020"
   ]
  },
  {
   "cell_type": "code",
   "execution_count": 57,
   "metadata": {},
   "outputs": [],
   "source": [
    "import re\n",
    "import json\n",
    "from pymongo import MongoClient\n",
    "import warnings; warnings.simplefilter('ignore')"
   ]
  },
  {
   "cell_type": "markdown",
   "metadata": {},
   "source": [
    "## Problem 1\n",
    "\n",
    "The file `trump.json` contains posts from http://www.twitter.com (tweets) over the course of an hour that have the key word \"trump\".\n",
    "Each line in the file is a single JSON message that can be loaded with `json.loads()`.\n",
    "\n",
    "Create a MongoDB database and initialize a collection in the database.\n",
    "Use the collection's `delete_many()` method with an empy set as input to clear existing contents of the collection, then fill the collection one line at a time with the data from `trump.json`.\n",
    "Check that your collection has 95,643 entries with its `count()` method."
   ]
  },
  {
   "cell_type": "code",
   "execution_count": 17,
   "metadata": {},
   "outputs": [
    {
     "data": {
      "text/plain": [
       "<pymongo.results.DeleteResult at 0x181339ca5c8>"
      ]
     },
     "execution_count": 17,
     "metadata": {},
     "output_type": "execute_result"
    }
   ],
   "source": [
    "client = MongoClient()\n",
    "db = client.db1\n",
    "col = db.collection2\n",
    "col.delete_many({})"
   ]
  },
  {
   "cell_type": "code",
   "execution_count": 18,
   "metadata": {},
   "outputs": [],
   "source": [
    "with open('trump.json', 'r') as infile:\n",
    "    for line in infile.readlines():\n",
    "        json_text = json.loads(line)\n",
    "        col.insert_one(json_text)"
   ]
  },
  {
   "cell_type": "code",
   "execution_count": 61,
   "metadata": {},
   "outputs": [
    {
     "name": "stdout",
     "output_type": "stream",
     "text": [
      "Count is: 95643\n"
     ]
    }
   ],
   "source": [
    "print(\"Count is:\", col.count())"
   ]
  },
  {
   "cell_type": "markdown",
   "metadata": {},
   "source": [
    "## Problem 2\n",
    "\n",
    "Query the Twitter collection for the following information.\n",
    "- How many tweets include the word Russia? Use `re.IGNORECASE`.\n",
    "- How many tweets came from one of the main continental US time zones? These are listed as `\"Central Time (US & Canada)\"`, `\"Pacific Time (US & Canada)\"`, `\"Eastern Time (US & Canada)\"`, and `\"Mountain Time (US & Canada)\"`.\n",
    "- How often does each language occur? Construct a dictionary with each language and it’s frequency count."
   ]
  },
  {
   "cell_type": "code",
   "execution_count": 58,
   "metadata": {},
   "outputs": [
    {
     "name": "stdout",
     "output_type": "stream",
     "text": [
      "There are  5841 tweets containing the word Russia (Ignoring Case)\n"
     ]
    }
   ],
   "source": [
    "results = col.find({\"text\":  {'$regex': re.compile('Russia', re.IGNORECASE)}})\n",
    "print(\"There are \", results.count(), \"tweets containing the word Russia (Ignoring Case)\")"
   ]
  },
  {
   "cell_type": "code",
   "execution_count": 59,
   "metadata": {},
   "outputs": [
    {
     "name": "stdout",
     "output_type": "stream",
     "text": [
      "There are 33939 tweets from the united states time zones\n"
     ]
    }
   ],
   "source": [
    "results = col.find({\"user.time_zone\": {\"$in\": [\n",
    "    'Central Time (US & Canada)', \n",
    "    'Pacific Time (US & Canada)',\n",
    "    'Eastern Time (US & Canada)',\n",
    "    'Mountain Time (US & Canada)']}})\n",
    "print(\"There are\", results.count(), \"tweets from the united states time zones\")"
   ]
  },
  {
   "cell_type": "code",
   "execution_count": 60,
   "metadata": {},
   "outputs": [
    {
     "name": "stdout",
     "output_type": "stream",
     "text": [
      "{'en': 84919, 'fr': 1235, 'es': 3027, 'tr': 588, 'nl': 212, 'pt': 632, 'und': 1653, 'it': 423, 'de': 635, 'da': 35, 'zh': 1, 'ru': 29, 'pl': 108, 'no': 21, 'eu': 6, 'tl': 48, 'in': 121, 'cs': 13, 'ht': 21, 'ro': 21, 'sl': 3, 'sv': 55, 'fi': 20, 'ar': 30, 'et': 23, 'lt': 8, 'hu': 6, 'el': 10, 'ja': 17, 'lv': 2, 'vi': 7, 'fa': 5, 'ko': 2, 'ur': 1, 'cy': 2, 'th': 3, 'is': 1, 'iw': 1, 'uk': 3}\n"
     ]
    }
   ],
   "source": [
    "dict = {}\n",
    "langs = col.distinct('lang')\n",
    "for lang in langs:\n",
    "    results = col.find({\"lang\": lang})\n",
    "    dict[lang] = results.count()\n",
    "print(dict)"
   ]
  },
  {
   "cell_type": "markdown",
   "metadata": {},
   "source": [
    "## Problem 3\n",
    "\n",
    "Query the Twitter collection from Problem 1 for the following information.\n",
    "- What are the usernames of the 5 most popular (defined as having the most followers) tweeters? Don’t include repeats.\n",
    "- Of the tweets containing at least 5 hashtags, sort the tweets by how early the 5th hashtag appears in the text. What is the earliest spot (character count) it appears?\n",
    "- What are the coordinates of the tweet that came from the northernmost location? Use the latitude and longitude point in `\"coordinates\"`."
   ]
  },
  {
   "cell_type": "code",
   "execution_count": 92,
   "metadata": {},
   "outputs": [
    {
     "name": "stdout",
     "output_type": "stream",
     "text": [
      "CNN\n",
      "Reuters Top News\n",
      "Fox News\n",
      "Wall Street Journal\n",
      "TIME\n"
     ]
    }
   ],
   "source": [
    "results = col.find({\"user.followers_count\": {\"$exists\": True}}).sort(\"user.followers_count\", -1)[:10]\n",
    "names = []\n",
    "for tweet in results:\n",
    "    name = tweet[\"user\"][\"name\"]\n",
    "    if name not in names:\n",
    "        print(name)\n",
    "        names.append(name)\n",
    "    if len(names) == 5:\n",
    "        break"
   ]
  },
  {
   "cell_type": "code",
   "execution_count": 115,
   "metadata": {},
   "outputs": [
    {
     "name": "stdout",
     "output_type": "stream",
     "text": [
      "Earliest hashtag in tweet is at index: 23\n"
     ]
    }
   ],
   "source": [
    "results = col.find({\"entities.hashtags.4\": {\"$exists\": True}}).sort(\"entities.hashtags.4.indices.0\", 1)\n",
    "print(\"Earliest hashtag in tweet is at index:\", results[0][\"entities\"][\"hashtags\"][4][\"indices\"][0])"
   ]
  },
  {
   "cell_type": "code",
   "execution_count": 130,
   "metadata": {},
   "outputs": [
    {
     "name": "stdout",
     "output_type": "stream",
     "text": [
      "Northernmost tweet coordinates: [28.99237342, 41.06803023]\n"
     ]
    }
   ],
   "source": [
    "results = col.find({\"coordinates\": {\"$ne\": None}}).sort(\"coordinates.coordinates.0\", -1)\n",
    "print(\"Northernmost tweet coordinates:\", results[0][\"coordinates\"][\"coordinates\"])"
   ]
  },
  {
   "cell_type": "markdown",
   "metadata": {},
   "source": [
    "## Problem 4\n",
    "\n",
    "Clean the Twitter collection in the following ways.\n",
    "\n",
    "- Get rid of the `\"retweeted_status\"` field in each tweet.\n",
    "- Update every tweet from someone with at least 1000 followers to include a popular field whose value is True. Report the number of popular tweets.\n",
    "- (OPTIONAL) The geographical coordinates used before in coordinates.coordinates are turned off for most tweets. But many more have a bounding box around the coordinates in the place field. Update every tweet without coordinates that contains a bounding box so that the coordinates contains the average value of the points that form the bounding box. Make the structure of coordinates the same as the others, so it contains coordinates with a longitude, latitude array and a type, the value of which should be ’Point’."
   ]
  },
  {
   "cell_type": "code",
   "execution_count": 142,
   "metadata": {},
   "outputs": [
    {
     "name": "stdout",
     "output_type": "stream",
     "text": [
      "Number of tweets with retweeted_status field: 0\n"
     ]
    }
   ],
   "source": [
    "col.update_many({}, {\"$unset\": {\"retweeted_status\": 1}})\n",
    "result = col.find({\"retweeted_status\": {\"$exists\": True}})\n",
    "print(\"Number of tweets with retweeted_status field:\", result.count())"
   ]
  },
  {
   "cell_type": "code",
   "execution_count": 143,
   "metadata": {},
   "outputs": [
    {
     "name": "stdout",
     "output_type": "stream",
     "text": [
      "Does new popular field exist for user with over 1000 followers? True\n"
     ]
    }
   ],
   "source": [
    "col.update_many({\"user.followers_count\": {\"$gte\": 1000}}, {\"$set\": {\"popular\": True}})\n",
    "result = col.find({\"user.followers_count\": {\"$gte\": 1000}})\n",
    "print(\"Does new popular field exist for user with over 1000 followers?\", result[0][\"popular\"])"
   ]
  },
  {
   "cell_type": "code",
   "execution_count": null,
   "metadata": {},
   "outputs": [],
   "source": []
  }
 ],
 "metadata": {
  "kernelspec": {
   "display_name": "Python 3",
   "language": "python",
   "name": "python3"
  },
  "language_info": {
   "codemirror_mode": {
    "name": "ipython",
    "version": 3
   },
   "file_extension": ".py",
   "mimetype": "text/x-python",
   "name": "python",
   "nbconvert_exporter": "python",
   "pygments_lexer": "ipython3",
   "version": "3.7.3"
  }
 },
 "nbformat": 4,
 "nbformat_minor": 2
}
