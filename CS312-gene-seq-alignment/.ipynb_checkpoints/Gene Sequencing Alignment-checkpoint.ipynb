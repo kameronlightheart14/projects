{
 "cells": [
  {
   "cell_type": "markdown",
   "metadata": {},
   "source": [
    "Kameron Lightheart\n",
    "\n",
    "CS 312\n",
    "\n",
    "# Complexity\n",
    "\n",
    "## Unrestricted\n",
    "\n",
    "### Temporal\n",
    "Assuming an input of 2 strings of length n and m respectively, the unrestricted algorithm is O(n*m). See commented code in section 4 for details, but basically the algorithm loops through every entry of a nxm matrix E and nxm matrix prev simulatneously and computes the value in constant time and sets the value of both matrices. This is O(n*m), since all the other computations or initializations are constant time (since np.empty only allocated memory, it doesn't need to loop through and set any values like np.zeros does) or O(n+m) in the case of backtracking the alignments. The reason for this is because worst case scenario is that none of the characters are matched up, but instead there are all gaps, then the alignment backtrack while loop is run n+m times with constant time operations which gives O(n+m). Thus overall the algorithm is O(n*m).\n",
    "\n",
    "### Spacial\n",
    "Assuming an input of 2 string of size n and m respectively, the unrestricted algorithm has spacial complexity of O(n*m). This is because 2 arrays of size n*m are used, along with several integers, and the two align lists that are each max size n+m if no matches are chosen. Thus overall the space needed is O(n*m).\n",
    "\n",
    "## Banded\n",
    "\n",
    "### Temporal\n",
    "Assuming an input of 2 strings of size n and m respectively, the banded algorithm has complexity of O(k*m) where k is the bandwidth chosen (in our case 7). This algorithm is almost identical to the previous one except that instead of looping over all values of the n*m matrix, we only loop through the diagonal and the 7 values around it (including the diagonal). Since my inner for loop depends on the iterator from the outer for loop, it only spans the 7 values in each row of the matrix. This means that overal the double for loop is entered k*m times and with constant time operations inside that gives a total of O(k*m) for the algorithm. Similar to before the align backtrack is O(n+m) so it doesn't affect the overall asymptotic complexity. \n",
    "\n",
    "### Spacial\n",
    "Assuming an input of 2 strings of size n and m respectively, the banded algorithm has spacial complexity of O(n*m). This is because I used the exact same space as the unrestricted for simplicity. I could have done it in O(k*m), but I was unable to get this to work, so I ended up leaving the same size matrix and just changing the for loops to only enter the desired entries of the matrices. \n",
    "\n",
    "# Alignment Extraction Algorithm\n",
    "In order to be able to easily obtain the optimal alignments for each pair of strings, I kept track of the path as I computed the values of the table. I did this by creating another matrix of size n*m which I called \"prev\". This matrix was filled with values of either 0, 1 or 2. These values represent whether a letter from the first string is added which means the value to the left of the current was chosen (0), a letter from the second string is added which means the value above the current was chosen (1) or both letters were added which means the value diagonal to the current was chosen (2). This allowed me to start from the bottom right entry of the matrix and use these \"prev\" matrix values to tell me which direction to move in the matrix towards the top left entry. Since each movement corresponds to either adding from the 1st, 2nd or both strings, I built a list of those strings for both alignments. At the end since I worked backwards, I simply reversed the lists and converted them to strings.   \n",
    "\n",
    "# Results\n",
    "$\\newline\\newline\\newline\\newline\\newline\\newline\\newline\\newline\\newline\\newline\\newline\\newline\\newline$\n",
    "$\\newline\\newline\\newline\\newline\\newline\\newline\\newline\\newline\\newline\\newline\\newline\\newline\\newline$\n",
    "$\\newline\\newline\\newline\\newline\\newline\\newline\\newline\\newline\\newline\\newline\\newline\\newline\\newline$\n",
    "$\\newline\\newline\\newline\\newline\\newline\\newline\\newline\\newline\\newline\\newline\\newline\\newline\\newline$\n",
    "$\\newline\\newline\\newline\\newline\\newline\\newline\\newline\\newline\\newline\\newline\\newline\\newline\\newline$\n",
    "$\\newline\\newline\\newline\\newline\\newline\\newline\\newline\\newline\\newline\\newline\\newline\\newline\\newline$\n",
    "\n",
    "# -\n"
   ]
  },
  {
   "cell_type": "markdown",
   "metadata": {},
   "source": []
  }
 ],
 "metadata": {
  "kernelspec": {
   "display_name": "Python 3",
   "language": "python",
   "name": "python3"
  },
  "language_info": {
   "codemirror_mode": {
    "name": "ipython",
    "version": 3
   },
   "file_extension": ".py",
   "mimetype": "text/x-python",
   "name": "python",
   "nbconvert_exporter": "python",
   "pygments_lexer": "ipython3",
   "version": "3.7.3"
  }
 },
 "nbformat": 4,
 "nbformat_minor": 2
}
