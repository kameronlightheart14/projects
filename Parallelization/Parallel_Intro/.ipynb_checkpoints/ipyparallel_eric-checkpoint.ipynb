{
 "cells": [
  {
   "cell_type": "markdown",
   "metadata": {},
   "source": [
    "# Parallel Computing 1: iPyParallel\n",
    "    Name"
   ]
  },
  {
   "cell_type": "code",
   "execution_count": 1,
   "metadata": {},
   "outputs": [],
   "source": [
    "from ipyparallel import Client\n",
    "import numpy as np\n",
    "import time\n",
    "from matplotlib import pyplot as plt\n",
    "from scipy import stats\n",
    "from timeit import default_timer as time"
   ]
  },
  {
   "cell_type": "code",
   "execution_count": 4,
   "metadata": {},
   "outputs": [],
   "source": [
    "%matplotlib inline"
   ]
  },
  {
   "cell_type": "markdown",
   "metadata": {},
   "source": [
    "## Problem 1\n",
    "Initializes a `Client` object, create a `DirectView` with all available engines, and import `scipy.sparse` as `sparse` on all engines.\n",
    "\n",
    "(This is just to make sure your cluster is running and connected correctly)"
   ]
  },
  {
   "cell_type": "code",
   "execution_count": 5,
   "metadata": {},
   "outputs": [
    {
     "name": "stdout",
     "output_type": "stream",
     "text": [
      "client ids [0, 1, 2, 3]\n"
     ]
    },
    {
     "data": {
      "text/plain": [
       "<AsyncResult: execute>"
      ]
     },
     "execution_count": 5,
     "metadata": {},
     "output_type": "execute_result"
    }
   ],
   "source": [
    "# terminal command:\n",
    "# ipcluster start --n 4\n",
    "\n",
    "# initialize client\n",
    "client = Client()\n",
    "print('client ids', client.ids)\n",
    "\n",
    "# create directview\n",
    "dview = client[:]\n",
    "\n",
    "# import scipy.sparse as sparse\n",
    "dview.execute(\"import scipy.sparse as sparse\")"
   ]
  },
  {
   "cell_type": "markdown",
   "metadata": {},
   "source": [
    "## Problem 2\n",
    "\n",
    "Write a function `variables(dx)` that accepts a dictionary of variables.\n",
    "Distribute the variables to all engines, then pull the variables back."
   ]
  },
  {
   "cell_type": "code",
   "execution_count": 9,
   "metadata": {},
   "outputs": [],
   "source": [
    "def variables(dx):\n",
    "    \"\"\"\n",
    "    input: dictionary of variables\n",
    "    \n",
    "    tasks: push variables to all engines\n",
    "           (from the problem 1 client)\n",
    "           pull variables back and check them\n",
    "               against the original dictionary\n",
    "    \"\"\"\n",
    "\n",
    "    # push variables to engines\n",
    "    dview.push(dx)\n",
    "    \n",
    "    # check that all variables match\n",
    "    for key, val in dx.items():\n",
    "        pulled_values = dview.pull(key)\n",
    "        assert all([ pulled_value == val for pulled_value in pulled_values ])\n",
    "        \n",
    "    "
   ]
  },
  {
   "cell_type": "code",
   "execution_count": 10,
   "metadata": {},
   "outputs": [],
   "source": [
    "# run something to check your function\n",
    "dx = {\n",
    "    'a': 1,\n",
    "    'b': 2\n",
    "}\n",
    "\n",
    "variables(dx)"
   ]
  },
  {
   "cell_type": "markdown",
   "metadata": {},
   "source": [
    "## Problem 3\n",
    "\n",
    "Write a function that accepts an integer n.\n",
    "Instruct each engine to make n draws from the standard normal distribution, then hand back the minimum, maximum, and mean draw to the client.\n",
    "Print the results."
   ]
  },
  {
   "cell_type": "code",
   "execution_count": 6,
   "metadata": {},
   "outputs": [],
   "source": [
    "# import\n",
    "dview.execute('from scipy import stats')\n",
    "\n",
    "# function that performs the sampling\n",
    "def draw_n(n):\n",
    "    gaussian = stats.norm()\n",
    "    sample = gaussian.rvs(n)\n",
    "    return sample.min(), sample.max(), sample.mean()\n",
    "\n",
    "def draw_statistics(n):\n",
    "    \"\"\"\n",
    "    input: integer n\n",
    "    \n",
    "    tasks: each engine makes n draws from \n",
    "            standard normal distribution\n",
    "           compute the min, max, and mean for\n",
    "            each engine\n",
    "           print the resulting lists of mins,\n",
    "            maxs, and means\n",
    "    \"\"\"\n",
    "    \n",
    "    # sample n values from gaussian on each engine\n",
    "    result = np.array(dview.apply(draw_n, n))\n",
    "    mins = list(result[:, 0])\n",
    "    maxs = list(result[:, 1])\n",
    "    means = list(result[:, 2])\n",
    "    \n",
    "    # print results\n",
    "    print(f'means = {mins}')\n",
    "    print(f'means = {maxs}')\n",
    "    print(f'means = {means}')"
   ]
  },
  {
   "cell_type": "code",
   "execution_count": 7,
   "metadata": {},
   "outputs": [
    {
     "name": "stdout",
     "output_type": "stream",
     "text": [
      "means = [-0.7905033103230678, -1.179098511820463, 0.1597694978716989, -1.065118902168885]\n",
      "means = [1.1806353876958955, 1.9349150144644305, 1.0713232403102693, -0.2486789451967647]\n",
      "means = [0.16791715315891356, 0.04752152318112337, 0.5408146033953195, -0.6957352700483559]\n"
     ]
    }
   ],
   "source": [
    "# run something to check your function\n",
    "draw_statistics(4)"
   ]
  },
  {
   "cell_type": "markdown",
   "metadata": {},
   "source": [
    "## Problem 4\n",
    "\n",
    "Use `draw_statistics()` to compare serial and parallel execution times.\n",
    "For $n = 1000000, 5000000, 10000000, 15000000,$\n",
    "1. Time how long it takes to run your function.\n",
    "2. Time how long it takes to do the same process (make n draws and calculate and record the statistics) in a for loop with $N$ iterations, where $N$ is the number of engines running.\n",
    "\n",
    "Plot the execution times against $n$.\n",
    "You should notice an increase in efficiency in the parallel\n",
    "version as the problem size increases."
   ]
  },
  {
   "cell_type": "code",
   "execution_count": 8,
   "metadata": {
    "scrolled": false
   },
   "outputs": [
    {
     "name": "stdout",
     "output_type": "stream",
     "text": [
      "means = [-4.66061570522925, -4.966194458742926, -4.603169878701139, -5.075035923716944]\n",
      "means = [5.132038494972152, 4.582882652426418, 5.398758686646421, 5.018057022329087]\n",
      "means = [-0.0002460529066535994, 0.001116136457762607, -0.000830382388444477, 0.001969262733609182]\n",
      "means = [-5.143973846628844, -5.189764625556029, -5.119481170185379, -5.195072372060664]\n",
      "means = [5.420359729955298, 5.1709636144735835, 5.890459520010071, 4.8392675867590915]\n",
      "means = [-0.000660031092236423, 1.1516234539770195e-05, 0.00048802015122698165, 4.029087242658686e-05]\n",
      "means = [-5.10378539262351, -5.019250262954895, -5.461171122803468, -5.67530717891073]\n",
      "means = [5.312143286546667, 4.877739375767299, 5.144563288536509, 4.979547710143551]\n",
      "means = [0.0002667865980275423, -0.00011701981519374156, -0.0004018535727091817, 0.00010353560102067884]\n",
      "means = [-5.336428641401976, -5.447482825506514, -5.2250532821452715, -5.106373951992722]\n",
      "means = [5.144998747777113, 5.2806350470444325, 5.351823621372229, 5.526014020610052]\n",
      "means = [0.0002620259651378735, -2.0073094667728376e-06, -5.1948915270612276e-05, 0.00011610291355166552]\n"
     ]
    },
    {
     "data": {
      "text/plain": [
       "Text(0, 0.5, 'Time')"
      ]
     },
     "execution_count": 8,
     "metadata": {},
     "output_type": "execute_result"
    },
    {
     "data": {
      "image/png": "[encoded data removed]",
      "text/plain": [
       "<Figure size 432x288 with 1 Axes>"
      ]
     },
     "metadata": {
      "needs_background": "light"
     },
     "output_type": "display_data"
    }
   ],
   "source": [
    "# prepare to store times\n",
    "parallel_times = []\n",
    "serial_times   = []\n",
    "num_engines = len(dview.targets)\n",
    "\n",
    "# for each n value\n",
    "n_vals = np.array([1, 5, 10, 15]) * 1_000_000\n",
    "for n in n_vals:\n",
    "    \n",
    "    # time parallel\n",
    "    start = time()\n",
    "    draw_statistics(n)\n",
    "    parallel_times.append( start - time() )\n",
    "    \n",
    "    # time serial\n",
    "    start = time()\n",
    "    for _ in range(num_engines):\n",
    "        draw_n(n)\n",
    "    serial_times.append( time() - start )\n",
    "\n",
    "# plot the two lists of times\n",
    "plt.plot(n_vals, parallel_times, '-o', label='Parallel')\n",
    "plt.plot(n_vals, serial_times, '-o', label='Serial')\n",
    "plt.title('Timing Parallel and Serial Processing')\n",
    "plt.legend()\n",
    "plt.xlabel('Number of Draws')\n",
    "plt.ylabel('Time')"
   ]
  },
  {
   "cell_type": "markdown",
   "metadata": {},
   "source": [
    "## Problem 5\n",
    "\n",
    "Write a function that accepts a function handle $f$ to integrate, bounds of integration, and the number of points to use for the approximation.\n",
    "Parallelize the trapezoid rule in order to estimate the integral of $f$ over the given bounds.\n",
    "That is, evenly divide the points among all available processors and run the trapezoid rule on each portion simultaneously.\n",
    "The sum of the results of all the processors will be the estimation of the integral over the entire interval of integration.\n",
    "Return this sum.\n",
    "\n",
    "Demonstrate that your function works."
   ]
  },
  {
   "cell_type": "code",
   "execution_count": 118,
   "metadata": {},
   "outputs": [],
   "source": [
    "dview.execute('import numpy as np')\n",
    "\n",
    "def trapezoid_parallel(f, a, b, N):\n",
    "    \"\"\"\n",
    "    inputs: f = func to integrate\n",
    "            a,b = integration bounds\n",
    "            N = number of points used\n",
    "    tasks:  estimate integral of f\n",
    "    \"\"\"\n",
    "    \n",
    "    def mini_trap(args):\n",
    "        \"\"\"Evaluate one term of the sum: f(x_0) + f(x_1)\"\"\"\n",
    "        x_0, x_1 = args\n",
    "        return f(x_0) + f(x_1)\n",
    "    \n",
    "    # get step size\n",
    "    h = (b - a) / N\n",
    "    \n",
    "    # compute a list of steps and divide into tuples\n",
    "    x = np.linspace(a, b, N)\n",
    "    point_pairs = [(x[i - 1], x[i],) for i in range(1, len(x))]\n",
    "    \n",
    "    # evaluate the trapezoid rule on result\n",
    "    return (h / 2) * np.array(dview.map_sync(mini_trap, point_pairs)).sum()\n",
    "    \n"
   ]
  },
  {
   "cell_type": "code",
   "execution_count": 119,
   "metadata": {},
   "outputs": [
    {
     "name": "stdout",
     "output_type": "stream",
     "text": [
      "estimated integral: 12.863523209481984\n",
      "actual integral: 13.193945926731752\n"
     ]
    }
   ],
   "source": [
    "\n",
    "# test f\n",
    "f = lambda x: np.sin(x) + 4\n",
    "a,b = 1,4\n",
    "N = 40\n",
    "\n",
    "# evaluate integral using your function\n",
    "print('estimated integral:',trapezoid_parallel(f,a,b,N))\n",
    "\n",
    "# compare to scipy result\n",
    "import scipy.integrate as integrate\n",
    "print('actual integral:',integrate.quad(f,a,b)[0])"
   ]
  },
  {
   "cell_type": "code",
   "execution_count": 66,
   "metadata": {},
   "outputs": [
    {
     "data": {
      "text/plain": [
       "[2, 3, 4]"
      ]
     },
     "execution_count": 66,
     "metadata": {},
     "output_type": "execute_result"
    }
   ],
   "source": [
    "[1, 2, 3, 4, 5][1:-1]"
   ]
  },
  {
   "cell_type": "code",
   "execution_count": null,
   "metadata": {},
   "outputs": [],
   "source": []
  }
 ],
 "metadata": {
  "anaconda-cloud": {},
  "kernelspec": {
   "display_name": "Python 3",
   "language": "python",
   "name": "python3"
  },
  "language_info": {
   "codemirror_mode": {
    "name": "ipython",
    "version": 3
   },
   "file_extension": ".py",
   "mimetype": "text/x-python",
   "name": "python",
   "nbconvert_exporter": "python",
   "pygments_lexer": "ipython3",
   "version": "3.7.3"
  }
 },
 "nbformat": 4,
 "nbformat_minor": 2
}
