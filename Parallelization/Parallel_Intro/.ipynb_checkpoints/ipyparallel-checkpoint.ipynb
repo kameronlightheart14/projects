{
 "cells": [
  {
   "cell_type": "markdown",
   "metadata": {},
   "source": [
    "# Parallel Computing 1: iPyParallel\n",
    "    Kameron Lightheart"
   ]
  },
  {
   "cell_type": "code",
   "execution_count": 67,
   "metadata": {},
   "outputs": [],
   "source": [
    "from ipyparallel import Client\n",
    "import numpy as np\n",
    "import time\n",
    "from matplotlib import pyplot as plt\n",
    "from timeit import default_timer as time\n",
    "from scipy.stats import norm\n",
    "from scipy import stats"
   ]
  },
  {
   "cell_type": "code",
   "execution_count": 45,
   "metadata": {},
   "outputs": [],
   "source": [
    "%matplotlib inline"
   ]
  },
  {
   "cell_type": "markdown",
   "metadata": {},
   "source": [
    "## Problem 1\n",
    "Initializes a `Client` object, create a `DirectView` with all available engines, and import `scipy.sparse` as `sparse` on all engines.\n",
    "\n",
    "(This is just to make sure your cluster is running and connected correctly)"
   ]
  },
  {
   "cell_type": "code",
   "execution_count": 46,
   "metadata": {},
   "outputs": [],
   "source": [
    "def start_engines():  \n",
    "    # initialize client\n",
    "    client = Client() \n",
    "\n",
    "    # create directview\n",
    "    dview = client[:]\n",
    "    \n",
    "    # import scipy.sparse as sparse\n",
    "    dview.execute(\"import scipy.sparse as sparse\")"
   ]
  },
  {
   "cell_type": "code",
   "execution_count": 47,
   "metadata": {},
   "outputs": [],
   "source": [
    "start_engines()"
   ]
  },
  {
   "cell_type": "markdown",
   "metadata": {},
   "source": [
    "## Problem 2\n",
    "\n",
    "Write a function `variables(dx)` that accepts a dictionary of variables.\n",
    "Distribute the variables to all engines, then pull the variables back."
   ]
  },
  {
   "cell_type": "code",
   "execution_count": 9,
   "metadata": {},
   "outputs": [],
   "source": [
    "def variables(dx):\n",
    "    \"\"\"\n",
    "    input: dictionary of variables\n",
    "    \n",
    "    tasks: push variables to all engines\n",
    "           (from the problem 1 client)\n",
    "           pull variables back and check them\n",
    "               against the original dictionary\n",
    "    \"\"\"\n",
    "    # initialize client\n",
    "    client = Client() \n",
    "\n",
    "    # create directview\n",
    "    dview = client[:]\n",
    "    \n",
    "    # import scipy.sparse as sparse\n",
    "    dview.execute(\"import scipy.sparse as sparse\")\n",
    "    \n",
    "    dview.block = True\n",
    "    \n",
    "    dview.push(dx)\n",
    "    \n",
    "    # check values haven't changed on each core\n",
    "    for key in dx:\n",
    "         for i, var in enumerate(dview.pull(key)):\n",
    "                print(\"Successfully added: \", var, \"to core: \", i)\n",
    "                assert(dx[key] == var)"
   ]
  },
  {
   "cell_type": "code",
   "execution_count": 10,
   "metadata": {},
   "outputs": [
    {
     "name": "stdout",
     "output_type": "stream",
     "text": [
      "Successfully added:  10 to core:  0\n",
      "Successfully added:  10 to core:  1\n",
      "Successfully added:  10 to core:  2\n",
      "Successfully added:  10 to core:  3\n",
      "Successfully added:  5 to core:  0\n",
      "Successfully added:  5 to core:  1\n",
      "Successfully added:  5 to core:  2\n",
      "Successfully added:  5 to core:  3\n"
     ]
    }
   ],
   "source": [
    "# run something to check your function\n",
    "dx = {'a':10, 'b':5}\n",
    "variables(dx)"
   ]
  },
  {
   "cell_type": "markdown",
   "metadata": {},
   "source": [
    "## Problem 3\n",
    "\n",
    "Write a function that accepts an integer n.\n",
    "Instruct each engine to make n draws from the standard normal distribution, then hand back the minimum, maximum, and mean draw to the client.\n",
    "Print the results."
   ]
  },
  {
   "cell_type": "code",
   "execution_count": 82,
   "metadata": {},
   "outputs": [],
   "source": [
    "dview.execute('from scipy import stats')\n",
    "\n",
    "# perform samples\n",
    "def draw_n(n):\n",
    "    gaussian = stats.norm()\n",
    "    sample = gaussian.rvs(n)\n",
    "    return sample.min(), sample.max(), sample.mean()\n",
    "\n",
    "def draw_statistics(n):\n",
    "    # sample n times for each core\n",
    "    result = np.array(dview.apply(draw_n, n))\n",
    "    mins = list(result[:, 0])\n",
    "    maxs = list(result[:, 1])\n",
    "    means = list(result[:, 2])\n",
    "    \n",
    "    # print results\n",
    "    print('means = {}'.format(mins))\n",
    "    print('means = {}'.format(maxs))\n",
    "    print('means = {}'.format(means))"
   ]
  },
  {
   "cell_type": "markdown",
   "metadata": {},
   "source": [
    "## Problem 4\n",
    "\n",
    "Use `draw_statistics()` to compare serial and parallel execution times.\n",
    "For $n = 1000000, 5000000, 10000000, 15000000,$\n",
    "1. Time how long it takes to run your function.\n",
    "2. Time how long it takes to do the same process (make n draws and calculate and record the statistics) in a for loop with $N$ iterations, where $N$ is the number of engines running.\n",
    "\n",
    "Plot the execution times against $n$.\n",
    "You should notice an increase in efficiency in the parallel\n",
    "version as the problem size increases."
   ]
  },
  {
   "cell_type": "code",
   "execution_count": 85,
   "metadata": {
    "scrolled": true
   },
   "outputs": [
    {
     "name": "stdout",
     "output_type": "stream",
     "text": [
      "means = [-4.447399902838125, -4.8735728945803025, -5.1061627275089005, -4.677451069645368]\n",
      "means = [4.81064468171321, 5.36697526657015, 4.729740976628338, 5.16096720608938]\n",
      "means = [-0.0010550807788420485, -0.0006254526083419682, 0.0009792449775392587, -0.00018430922039831317]\n",
      "means = [-5.341820884051624, -4.979157265655531, -5.117207236617098, -5.386743016062918]\n",
      "means = [5.758313328818439, 5.075609389951143, 4.913418757518641, 5.26192212688928]\n",
      "means = [0.00024186283971459457, -0.00011497318875438689, -0.0003605693940654847, -0.00010768307294762928]\n",
      "means = [-5.322095087160958, -5.245980981795358, -5.070263202382373, -5.630648951324939]\n",
      "means = [5.623909156045851, 5.384590049074981, 5.553781250477856, 5.219782156574626]\n",
      "means = [-8.872760483028567e-05, 0.00023550375556193767, 5.427126897055409e-05, -0.00023688241861595557]\n",
      "means = [-5.435190201632979, -5.329903402878238, -5.484995798551811, -5.587723757185579]\n",
      "means = [5.394723294243877, 5.385627860493485, 5.223748391304504, 5.350460595697364]\n",
      "means = [9.484648858039723e-05, 0.00021526738482127846, 0.0004998160579026869, -5.426454162052025e-06]\n"
     ]
    },
    {
     "data": {
      "text/plain": [
       "Text(0, 0.5, 'Time')"
      ]
     },
     "execution_count": 85,
     "metadata": {},
     "output_type": "execute_result"
    },
    {
     "data": {
      "image/png": "[encoded data removed]",
      "text/plain": [
       "<Figure size 432x288 with 1 Axes>"
      ]
     },
     "metadata": {
      "needs_background": "light"
     },
     "output_type": "display_data"
    }
   ],
   "source": [
    "# Times\n",
    "quad_core_times = []\n",
    "single_core_times   = []\n",
    "num_engines = len(dview.targets)\n",
    "\n",
    "# For each n value\n",
    "ns = np.array([1, 5, 10, 15]) * 1_000_000\n",
    "for n in ns:\n",
    "    # TIme quad\n",
    "    start = time()\n",
    "    draw_statistics(n)\n",
    "    quad_core_times.append( time() - start )\n",
    "    \n",
    "    # TIme the single\n",
    "    start = time()\n",
    "    for _ in range(num_engines):\n",
    "        draw_n(n)\n",
    "    single_core_times.append( time() - start )\n",
    "\n",
    "# plot the two lists of times\n",
    "plt.plot(ns, quad_core_times, '-o', label='Parallel')\n",
    "plt.plot(ns, single_core_times, '-o', label='single_core')\n",
    "plt.title('Timing Quad and Single Core Processing')\n",
    "plt.legend()\n",
    "plt.xlabel('Num Draws')\n",
    "plt.ylabel('Time')"
   ]
  },
  {
   "cell_type": "markdown",
   "metadata": {},
   "source": [
    "## Problem 5\n",
    "\n",
    "Write a function that accepts a function handle $f$ to integrate, bounds of integration, and the number of points to use for the approximation.\n",
    "Parallelize the trapezoid rule in order to estimate the integral of $f$ over the given bounds.\n",
    "That is, evenly divide the points among all available processors and run the trapezoid rule on each portion simultaneously.\n",
    "The sum of the results of all the processors will be the estimation of the integral over the entire interval of integration.\n",
    "Return this sum.\n",
    "\n",
    "Demonstrate that your function works."
   ]
  },
  {
   "cell_type": "code",
   "execution_count": 30,
   "metadata": {},
   "outputs": [],
   "source": [
    "def trapezoid_parallel(f, a, b, N):\n",
    "    \"\"\"\n",
    "    inputs: f = func to integrate\n",
    "            a,b = integration bounds\n",
    "            N = number of points used\n",
    "    tasks:  estimate integral of f\n",
    "    \"\"\"\n",
    "    \n",
    "    def trap_sum(x, y):\n",
    "        return f(x) + f(y)\n",
    "    \n",
    "    # Compute finite difference\n",
    "    h = (b - a) / N\n",
    "    \n",
    "    # Offset lists to compute f(x[i]) + f(x[i+1])\n",
    "    x = np.linspace(a, b-h, N)\n",
    "    y = np.linspace(a+h, b, N)\n",
    "    \n",
    "    # Compute each sum in parallel and use trapezoidal rule\n",
    "    return (h / 2) * np.sum(list(dview.map(trap_sum, x, y)))"
   ]
  },
  {
   "cell_type": "code",
   "execution_count": 31,
   "metadata": {},
   "outputs": [
    {
     "name": "stdout",
     "output_type": "stream",
     "text": [
      "estimated integral: 13.193386212103238\n",
      "actual integral: 13.193945926731752\n"
     ]
    }
   ],
   "source": [
    "# test f\n",
    "f = lambda x: np.sin(x) + 4\n",
    "a,b = 1,4\n",
    "N = 40\n",
    "h = (b - a) / N\n",
    "\n",
    "# evaluate integral using your function\n",
    "print('estimated integral:',trapezoid_parallel(f,a,b,N))\n",
    "\n",
    "# compare to scipy result\n",
    "import scipy.integrate as integrate\n",
    "print('actual integral:',integrate.quad(f,a,b)[0])"
   ]
  },
  {
   "cell_type": "code",
   "execution_count": null,
   "metadata": {},
   "outputs": [],
   "source": []
  },
  {
   "cell_type": "code",
   "execution_count": null,
   "metadata": {},
   "outputs": [],
   "source": []
  },
  {
   "cell_type": "code",
   "execution_count": null,
   "metadata": {},
   "outputs": [],
   "source": []
  },
  {
   "cell_type": "code",
   "execution_count": null,
   "metadata": {},
   "outputs": [],
   "source": []
  }
 ],
 "metadata": {
  "anaconda-cloud": {},
  "kernelspec": {
   "display_name": "Python 3",
   "language": "python",
   "name": "python3"
  },
  "language_info": {
   "codemirror_mode": {
    "name": "ipython",
    "version": 3
   },
   "file_extension": ".py",
   "mimetype": "text/x-python",
   "name": "python",
   "nbconvert_exporter": "python",
   "pygments_lexer": "ipython3",
   "version": "3.7.3"
  }
 },
 "nbformat": 4,
 "nbformat_minor": 2
}
